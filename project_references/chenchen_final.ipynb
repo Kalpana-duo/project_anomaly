{
 "cells": [
  {
   "cell_type": "code",
   "execution_count": 1,
   "id": "eb858625",
   "metadata": {},
   "outputs": [],
   "source": [
    "import warnings\n",
    "warnings.filterwarnings(\"ignore\")\n",
    "import matplotlib.pyplot as plt\n",
    "import numpy as np\n",
    "import pandas as pd\n",
    "import seaborn as sns\n",
    "import env\n",
    "import os\n",
    "import chenchen_prepare"
   ]
  },
  {
   "cell_type": "code",
   "execution_count": 2,
   "id": "4d826acb",
   "metadata": {},
   "outputs": [
    {
     "name": "stdout",
     "output_type": "stream",
     "text": [
      "df shape: (900223, 11)\n"
     ]
    },
    {
     "data": {
      "text/html": [
       "<div>\n",
       "<style scoped>\n",
       "    .dataframe tbody tr th:only-of-type {\n",
       "        vertical-align: middle;\n",
       "    }\n",
       "\n",
       "    .dataframe tbody tr th {\n",
       "        vertical-align: top;\n",
       "    }\n",
       "\n",
       "    .dataframe thead th {\n",
       "        text-align: right;\n",
       "    }\n",
       "</style>\n",
       "<table border=\"1\" class=\"dataframe\">\n",
       "  <thead>\n",
       "    <tr style=\"text-align: right;\">\n",
       "      <th></th>\n",
       "      <th>date</th>\n",
       "      <th>time</th>\n",
       "      <th>endpoint</th>\n",
       "      <th>user_id</th>\n",
       "      <th>cohort_id</th>\n",
       "      <th>ip</th>\n",
       "      <th>name</th>\n",
       "      <th>slack</th>\n",
       "      <th>start_date</th>\n",
       "      <th>end_date</th>\n",
       "      <th>program_id</th>\n",
       "    </tr>\n",
       "  </thead>\n",
       "  <tbody>\n",
       "    <tr>\n",
       "      <th>0</th>\n",
       "      <td>2018-01-26</td>\n",
       "      <td>09:55:03</td>\n",
       "      <td>/</td>\n",
       "      <td>1</td>\n",
       "      <td>8.0</td>\n",
       "      <td>97.105.19.61</td>\n",
       "      <td>Hampton</td>\n",
       "      <td>#hampton</td>\n",
       "      <td>2015-09-22</td>\n",
       "      <td>2016-02-06</td>\n",
       "      <td>1.0</td>\n",
       "    </tr>\n",
       "    <tr>\n",
       "      <th>1</th>\n",
       "      <td>2018-01-26</td>\n",
       "      <td>09:56:02</td>\n",
       "      <td>java-ii</td>\n",
       "      <td>1</td>\n",
       "      <td>8.0</td>\n",
       "      <td>97.105.19.61</td>\n",
       "      <td>Hampton</td>\n",
       "      <td>#hampton</td>\n",
       "      <td>2015-09-22</td>\n",
       "      <td>2016-02-06</td>\n",
       "      <td>1.0</td>\n",
       "    </tr>\n",
       "    <tr>\n",
       "      <th>2</th>\n",
       "      <td>2018-01-26</td>\n",
       "      <td>09:56:05</td>\n",
       "      <td>java-ii/object-oriented-programming</td>\n",
       "      <td>1</td>\n",
       "      <td>8.0</td>\n",
       "      <td>97.105.19.61</td>\n",
       "      <td>Hampton</td>\n",
       "      <td>#hampton</td>\n",
       "      <td>2015-09-22</td>\n",
       "      <td>2016-02-06</td>\n",
       "      <td>1.0</td>\n",
       "    </tr>\n",
       "    <tr>\n",
       "      <th>3</th>\n",
       "      <td>2018-01-26</td>\n",
       "      <td>09:56:06</td>\n",
       "      <td>slides/object_oriented_programming</td>\n",
       "      <td>1</td>\n",
       "      <td>8.0</td>\n",
       "      <td>97.105.19.61</td>\n",
       "      <td>Hampton</td>\n",
       "      <td>#hampton</td>\n",
       "      <td>2015-09-22</td>\n",
       "      <td>2016-02-06</td>\n",
       "      <td>1.0</td>\n",
       "    </tr>\n",
       "    <tr>\n",
       "      <th>4</th>\n",
       "      <td>2018-01-26</td>\n",
       "      <td>09:56:24</td>\n",
       "      <td>javascript-i/conditionals</td>\n",
       "      <td>2</td>\n",
       "      <td>22.0</td>\n",
       "      <td>97.105.19.61</td>\n",
       "      <td>Teddy</td>\n",
       "      <td>#teddy</td>\n",
       "      <td>2018-01-08</td>\n",
       "      <td>2018-05-17</td>\n",
       "      <td>2.0</td>\n",
       "    </tr>\n",
       "  </tbody>\n",
       "</table>\n",
       "</div>"
      ],
      "text/plain": [
       "         date      time                             endpoint  user_id  \\\n",
       "0  2018-01-26  09:55:03                                    /        1   \n",
       "1  2018-01-26  09:56:02                              java-ii        1   \n",
       "2  2018-01-26  09:56:05  java-ii/object-oriented-programming        1   \n",
       "3  2018-01-26  09:56:06   slides/object_oriented_programming        1   \n",
       "4  2018-01-26  09:56:24            javascript-i/conditionals        2   \n",
       "\n",
       "   cohort_id            ip     name     slack  start_date    end_date  \\\n",
       "0        8.0  97.105.19.61  Hampton  #hampton  2015-09-22  2016-02-06   \n",
       "1        8.0  97.105.19.61  Hampton  #hampton  2015-09-22  2016-02-06   \n",
       "2        8.0  97.105.19.61  Hampton  #hampton  2015-09-22  2016-02-06   \n",
       "3        8.0  97.105.19.61  Hampton  #hampton  2015-09-22  2016-02-06   \n",
       "4       22.0  97.105.19.61    Teddy    #teddy  2018-01-08  2018-05-17   \n",
       "\n",
       "   program_id  \n",
       "0         1.0  \n",
       "1         1.0  \n",
       "2         1.0  \n",
       "3         1.0  \n",
       "4         2.0  "
      ]
     },
     "execution_count": 2,
     "metadata": {},
     "output_type": "execute_result"
    }
   ],
   "source": [
    "df = chenchen_prepare.get_logs_dataset()\n",
    "df.head()"
   ]
  },
  {
   "cell_type": "code",
   "execution_count": 3,
   "id": "9818a117",
   "metadata": {},
   "outputs": [
    {
     "name": "stdout",
     "output_type": "stream",
     "text": [
      "new df shape: (900223, 11)\n",
      "df shape: (900223, 13)\n"
     ]
    }
   ],
   "source": [
    "df = chenchen_prepare.clean_dates(df)\n",
    "df = chenchen_prepare.get_endpoint_targets(df)\n",
    "df = chenchen_prepare.map_program_id(df)\n",
    "df = chenchen_prepare.clean_anomalies(df)\n",
    "df = chenchen_prepare.clean_lesson(df)\n",
    "df = chenchen_prepare.missing_values(df)"
   ]
  },
  {
   "cell_type": "code",
   "execution_count": 4,
   "id": "3560fecc",
   "metadata": {},
   "outputs": [
    {
     "data": {
      "text/plain": [
       "(900222, 14)"
      ]
     },
     "execution_count": 4,
     "metadata": {},
     "output_type": "execute_result"
    }
   ],
   "source": [
    "df.shape"
   ]
  },
  {
   "cell_type": "code",
   "execution_count": 5,
   "id": "960e1507",
   "metadata": {},
   "outputs": [
    {
     "data": {
      "text/plain": [
       "date                0\n",
       "time                0\n",
       "endpoint            0\n",
       "user_id             0\n",
       "cohort_id       52893\n",
       "ip                  0\n",
       "name            52893\n",
       "slack           52893\n",
       "start_date      52893\n",
       "end_date        52893\n",
       "program_id      52893\n",
       "class               0\n",
       "topic               0\n",
       "program_type    52893\n",
       "dtype: int64"
      ]
     },
     "execution_count": 5,
     "metadata": {},
     "output_type": "execute_result"
    }
   ],
   "source": [
    "df.isnull().sum()"
   ]
  },
  {
   "cell_type": "markdown",
   "id": "6871ed7a",
   "metadata": {},
   "source": [
    "* Keep the rest of the null value for exploration."
   ]
  },
  {
   "cell_type": "markdown",
   "id": "e280ec83",
   "metadata": {},
   "source": [
    "### 2. Is there a cohort that referred to a lesson significantly more than other cohorts seemed to gloss over?\n",
    "\n",
    "Here I will answer this question by different program: DS, FS_PHP and FS_JAVA."
   ]
  },
  {
   "cell_type": "markdown",
   "id": "932f915e",
   "metadata": {},
   "source": [
    "* DS program"
   ]
  },
  {
   "cell_type": "code",
   "execution_count": 6,
   "id": "b0dee6a4",
   "metadata": {},
   "outputs": [
    {
     "data": {
      "text/plain": [
       "Darden    32015\n",
       "Bayes     26538\n",
       "Curie     21581\n",
       "Name: name, dtype: int64"
      ]
     },
     "execution_count": 6,
     "metadata": {},
     "output_type": "execute_result"
    }
   ],
   "source": [
    "# create a dataframe for ds\n",
    "ds = df[df.program_id == 3]\n",
    "\n",
    "# due to the imbalaced value counts, here I will only compare top three cohorts referred to classes\n",
    "ds1 = ds[(ds.name == 'Darden')|(ds.name =='Bayes')|(ds.name =='Curie')]\n",
    "ds1.name.value_counts()"
   ]
  },
  {
   "cell_type": "code",
   "execution_count": 7,
   "id": "5b1c1014",
   "metadata": {},
   "outputs": [
    {
     "data": {
      "text/plain": [
       "ds-fundamentals      10509\n",
       "ds-sql                9521\n",
       "ds-classification     8910\n",
       "ds-python             7831\n",
       "0                     6659\n",
       "ds-regression         6348\n",
       "Name: class, dtype: int64"
      ]
     },
     "execution_count": 7,
     "metadata": {},
     "output_type": "execute_result"
    }
   ],
   "source": [
    "ds1['class'].value_counts().head(6)  # only compare the five 5 classes"
   ]
  },
  {
   "cell_type": "code",
   "execution_count": 8,
   "id": "2f4264e8",
   "metadata": {},
   "outputs": [
    {
     "data": {
      "text/plain": [
       "<AxesSubplot:xlabel='name,class'>"
      ]
     },
     "execution_count": 8,
     "metadata": {},
     "output_type": "execute_result"
    },
    {
     "data": {
      "image/png": "[encoded data removed]",
      "text/plain": [
       "<Figure size 1440x576 with 1 Axes>"
      ]
     },
     "metadata": {
      "needs_background": "light"
     },
     "output_type": "display_data"
    }
   ],
   "source": [
    "# viz of the top five classes in the top three cohorts\n",
    "ds1[ds1['class'] == 'ds-fundamentals'].groupby('name')['class'].value_counts().plot(figsize=(20,8),color = 'green')\n",
    "ds1[ds1['class'] == 'ds-sql'].groupby('name')['class'].value_counts().plot(color = 'red')\n",
    "ds1[ds1['class'] == 'ds-classification'].groupby('name')['class'].value_counts().plot(color = 'purple')\n",
    "ds1[ds1['class'] == 'ds-python'].groupby('name')['class'].value_counts().plot(color = 'blue')\n",
    "ds1[ds1['class'] == 'ds-regression'].groupby('name')['class'].value_counts().plot(color = 'pink')"
   ]
  },
  {
   "cell_type": "markdown",
   "id": "2be29f8e",
   "metadata": {},
   "source": [
    "* from the line chart, we can see classification has the biggest angle"
   ]
  },
  {
   "cell_type": "code",
   "execution_count": 9,
   "id": "c7793669",
   "metadata": {},
   "outputs": [
    {
     "data": {
      "text/plain": [
       "name    class            \n",
       "Bayes   ds-classification    2205\n",
       "Curie   ds-classification    1614\n",
       "Darden  ds-classification    5091\n",
       "Name: class, dtype: int64"
      ]
     },
     "execution_count": 9,
     "metadata": {},
     "output_type": "execute_result"
    }
   ],
   "source": [
    "ds1[ds1['class'] == 'ds-classification'].groupby('name')['class'].value_counts()"
   ]
  },
  {
   "cell_type": "code",
   "execution_count": 10,
   "id": "cfa8f0ce",
   "metadata": {},
   "outputs": [
    {
     "data": {
      "text/plain": [
       "<AxesSubplot:ylabel='name,class'>"
      ]
     },
     "execution_count": 10,
     "metadata": {},
     "output_type": "execute_result"
    },
    {
     "data": {
      "image/png": "[encoded data removed]",
      "text/plain": [
       "<Figure size 432x288 with 1 Axes>"
      ]
     },
     "metadata": {
      "needs_background": "light"
     },
     "output_type": "display_data"
    }
   ],
   "source": [
    "ds1[ds1['class'] == 'ds-classification'].groupby('name')['class'].value_counts().plot.barh()"
   ]
  },
  {
   "cell_type": "code",
   "execution_count": 11,
   "id": "660bc0cb",
   "metadata": {},
   "outputs": [
    {
     "data": {
      "text/plain": [
       "(3.154275092936803, 2.308843537414966)"
      ]
     },
     "execution_count": 11,
     "metadata": {},
     "output_type": "execute_result"
    }
   ],
   "source": [
    "5091/1614, 5091/2205"
   ]
  },
  {
   "cell_type": "markdown",
   "id": "0c3831a9",
   "metadata": {},
   "source": [
    "* Darden referred classification the most. 3.15 times more than Curie and 2.31 times more than Bayes."
   ]
  },
  {
   "cell_type": "markdown",
   "id": "d1748692",
   "metadata": {},
   "source": [
    "* FS_PHP_program"
   ]
  },
  {
   "cell_type": "code",
   "execution_count": 12,
   "id": "6d2e3897",
   "metadata": {},
   "outputs": [
    {
     "data": {
      "text/plain": [
       "Lassen    9587\n",
       "Arches    8890\n",
       "Name: name, dtype: int64"
      ]
     },
     "execution_count": 12,
     "metadata": {},
     "output_type": "execute_result"
    }
   ],
   "source": [
    "# create dataframe for PHP\n",
    "fs_php = df[df.program_id == 1]\n",
    "\n",
    "# use top two cohorts due to imbalanced value counts\n",
    "fs_php1 = fs_php[(fs_php.name == 'Lassen') | (fs_php.name == 'Arches')]\n",
    "fs_php1.name.value_counts()"
   ]
  },
  {
   "cell_type": "code",
   "execution_count": 13,
   "id": "61a46295",
   "metadata": {},
   "outputs": [
    {
     "data": {
      "text/plain": [
       "javascript-i    2339\n",
       "spring          2018\n",
       "html-css        1802\n",
       "mysql           1622\n",
       "java-iii        1579\n",
       "Name: class, dtype: int64"
      ]
     },
     "execution_count": 13,
     "metadata": {},
     "output_type": "execute_result"
    }
   ],
   "source": [
    "# choose the top 5 classes to compare\n",
    "fs_php1['class'].value_counts().head(5)"
   ]
  },
  {
   "cell_type": "code",
   "execution_count": 14,
   "id": "8d6e8e0e",
   "metadata": {},
   "outputs": [
    {
     "data": {
      "text/plain": [
       "<AxesSubplot:xlabel='name,class'>"
      ]
     },
     "execution_count": 14,
     "metadata": {},
     "output_type": "execute_result"
    },
    {
     "data": {
      "image/png": "[encoded data removed]",
      "text/plain": [
       "<Figure size 1440x576 with 1 Axes>"
      ]
     },
     "metadata": {
      "needs_background": "light"
     },
     "output_type": "display_data"
    }
   ],
   "source": [
    "# viz of the top five classes\n",
    "fs_php1[fs_php1['class'] == 'javascript-i'].groupby('name')['class'].value_counts().plot(figsize=(20,8),color = 'green')\n",
    "fs_php1[fs_php1['class'] == 'spring'].groupby('name')['class'].value_counts().plot(color = 'red')\n",
    "fs_php1[fs_php1['class'] == 'html-css'].groupby('name')['class'].value_counts().plot(color = 'purple')\n",
    "fs_php1[fs_php1['class'] == 'mysql'].groupby('name')['class'].value_counts().plot(color = 'blue')\n",
    "fs_php1[fs_php1['class'] == 'java-iii'].groupby('name')['class'].value_counts().plot(color = 'pink')"
   ]
  },
  {
   "cell_type": "markdown",
   "id": "685e120a",
   "metadata": {},
   "source": [
    "* not that much difference between those two cohorts for the top five accessed classes."
   ]
  },
  {
   "cell_type": "markdown",
   "id": "1d6e4c03",
   "metadata": {},
   "source": [
    "* FS_JAVA_program"
   ]
  },
  {
   "cell_type": "code",
   "execution_count": 15,
   "id": "2528d42d",
   "metadata": {},
   "outputs": [
    {
     "data": {
      "text/plain": [
       "Ceres        40730\n",
       "Zion         38096\n",
       "Jupiter      37109\n",
       "Fortuna      36902\n",
       "Voyageurs    35636\n",
       "Name: name, dtype: int64"
      ]
     },
     "execution_count": 15,
     "metadata": {},
     "output_type": "execute_result"
    }
   ],
   "source": [
    "fs_java = df[df.program_id == 2]\n",
    "\n",
    "# choose the cohorts have the top 5 value\n",
    "fs_java1 = fs_java[(fs_java.name == 'Ceres') | (fs_java.name == 'Zion') | (fs_java.name == 'Jupiter')|\n",
    "                   (fs_java.name == 'Fortuna')| (fs_java.name == 'Voyageurs')]\n",
    "fs_java1.name.value_counts()"
   ]
  },
  {
   "cell_type": "code",
   "execution_count": 16,
   "id": "8c3d68b4",
   "metadata": {},
   "outputs": [
    {
     "data": {
      "text/plain": [
       "javascript-i    28386\n",
       "mysql           22493\n",
       "html-css        21204\n",
       "java-ii         15705\n",
       "java-iii        15497\n",
       "Name: class, dtype: int64"
      ]
     },
     "execution_count": 16,
     "metadata": {},
     "output_type": "execute_result"
    }
   ],
   "source": [
    "fs_java1['class'].value_counts().head()"
   ]
  },
  {
   "cell_type": "code",
   "execution_count": 17,
   "id": "b8e0c279",
   "metadata": {},
   "outputs": [
    {
     "data": {
      "text/plain": [
       "<AxesSubplot:xlabel='name,class'>"
      ]
     },
     "execution_count": 17,
     "metadata": {},
     "output_type": "execute_result"
    },
    {
     "data": {
      "image/png": "[encoded data removed]",
      "text/plain": [
       "<Figure size 1440x576 with 1 Axes>"
      ]
     },
     "metadata": {
      "needs_background": "light"
     },
     "output_type": "display_data"
    }
   ],
   "source": [
    "# viz of the top five classes\n",
    "fs_java1[fs_java1['class'] == 'javascript-i'].groupby('name')['class'].value_counts().plot(figsize=(20,8),color = 'green')\n",
    "fs_java1[fs_java1['class'] == 'java-ii'].groupby('name')['class'].value_counts().plot(color = 'red')\n",
    "fs_java1[fs_java1['class'] == 'html-css'].groupby('name')['class'].value_counts().plot(color = 'purple')\n",
    "fs_java1[fs_java1['class'] == 'mysql'].groupby('name')['class'].value_counts().plot(color = 'blue')\n",
    "fs_java1[fs_java1['class'] == 'java-iii'].groupby('name')['class'].value_counts().plot(color = 'pink')"
   ]
  },
  {
   "cell_type": "markdown",
   "id": "d49d1222",
   "metadata": {},
   "source": [
    "* html-css class has the biggest difference."
   ]
  },
  {
   "cell_type": "code",
   "execution_count": 18,
   "id": "e9d754ae",
   "metadata": {},
   "outputs": [
    {
     "data": {
      "text/plain": [
       "name       class   \n",
       "Ceres      html-css    5929\n",
       "Fortuna    html-css    4177\n",
       "Jupiter    html-css    3705\n",
       "Voyageurs  html-css    3254\n",
       "Zion       html-css    4139\n",
       "Name: class, dtype: int64"
      ]
     },
     "execution_count": 18,
     "metadata": {},
     "output_type": "execute_result"
    }
   ],
   "source": [
    "fs_java1[fs_java1['class'] == 'html-css'].groupby('name')['class'].value_counts()"
   ]
  },
  {
   "cell_type": "code",
   "execution_count": 19,
   "id": "85df7c2a",
   "metadata": {},
   "outputs": [
    {
     "data": {
      "text/plain": [
       "<AxesSubplot:ylabel='name,class'>"
      ]
     },
     "execution_count": 19,
     "metadata": {},
     "output_type": "execute_result"
    },
    {
     "data": {
      "image/png": "[encoded data removed]",
      "text/plain": [
       "<Figure size 432x288 with 1 Axes>"
      ]
     },
     "metadata": {
      "needs_background": "light"
     },
     "output_type": "display_data"
    }
   ],
   "source": [
    "fs_java1[fs_java1['class'] == 'html-css'].groupby('name')['class'].value_counts().plot.barh()"
   ]
  },
  {
   "cell_type": "code",
   "execution_count": 20,
   "id": "51363004",
   "metadata": {},
   "outputs": [
    {
     "data": {
      "text/plain": [
       "1.8220651505838967"
      ]
     },
     "execution_count": 20,
     "metadata": {},
     "output_type": "execute_result"
    }
   ],
   "source": [
    "5929/3254"
   ]
  },
  {
   "cell_type": "markdown",
   "id": "861b87ff",
   "metadata": {},
   "source": [
    "* Ceres referred html-css the most. 1.8 times more than Voyageurs."
   ]
  },
  {
   "cell_type": "markdown",
   "id": "73196d15",
   "metadata": {},
   "source": [
    "### Q2 Answer:\n",
    "\n",
    "1. For Data Sience program, Darden referred classification lesson a lot more than other cohorts. \n",
    "2. For Full Stack JAVA program, Ceres referred html-css class tha most."
   ]
  },
  {
   "cell_type": "markdown",
   "id": "7ec7eb90",
   "metadata": {},
   "source": [
    "### 3. Are there students who, when active, hardly access the curriculum? If so, what information do you have about these students?\n",
    "\n",
    "* Here I will use Bollinder Bands to detect the unusual page view. Then find out the individual. "
   ]
  },
  {
   "cell_type": "code",
   "execution_count": 21,
   "id": "4daa941f",
   "metadata": {},
   "outputs": [],
   "source": [
    "# maybe put those functions in your prepare.py file?\n",
    "def prep(df, user):\n",
    "    df = df[df.user_id == user]\n",
    "    pages = df['endpoint'].resample('d').count()\n",
    "    return pages\n",
    "\n",
    "def compute_pct_b(pages, span, weight, user):\n",
    "    midband = pages.ewm(span=span).mean()\n",
    "    stdev = pages.ewm(span=span).std()\n",
    "    ub = midband + stdev*weight\n",
    "    lb = midband - stdev*weight\n",
    "    bb = pd.concat([ub, lb], axis=1)\n",
    "    my_df = pd.concat([pages, midband, bb], axis=1)\n",
    "    my_df.columns = ['pages', 'midband', 'ub', 'lb']\n",
    "    my_df['pct_b'] = (my_df['pages'] - my_df['lb'])/(my_df['ub'] - my_df['lb'])\n",
    "    my_df['user_id'] = user\n",
    "    return my_df\n",
    "\n",
    "def plt_bands(my_df, user):\n",
    "    fig, ax = plt.subplots(figsize=(12,8))\n",
    "    ax.plot(my_df.index, my_df.pages, label='Number of Pages, User: '+str(user))\n",
    "    ax.plot(my_df.index, my_df.midband, label = 'EMA/midband')\n",
    "    ax.plot(my_df.index, my_df.ub, label = 'Upper Band')\n",
    "    ax.plot(my_df.index, my_df.lb, label = 'Lower Band')\n",
    "    ax.legend(loc='best')\n",
    "    ax.set_ylabel('Number of Pages')\n",
    "    plt.show()\n",
    "\n",
    "def find_anomalies(df, user, span, weight):\n",
    "    pages = prep(df, user)\n",
    "    my_df = compute_pct_b(pages, span, weight, user)\n",
    "    # plt_bands(my_df, user)\n",
    "    return my_df[my_df.pct_b>1]"
   ]
  },
  {
   "cell_type": "code",
   "execution_count": 22,
   "id": "0fcec42a",
   "metadata": {},
   "outputs": [],
   "source": [
    "# create daaframe for monitor activies for active students.\n",
    "df_active = df[(df.date >= df.start_date) & (df.date <= df.end_date)]"
   ]
  },
  {
   "cell_type": "code",
   "execution_count": 23,
   "id": "40e8714d",
   "metadata": {},
   "outputs": [
    {
     "data": {
      "text/html": [
       "<div>\n",
       "<style scoped>\n",
       "    .dataframe tbody tr th:only-of-type {\n",
       "        vertical-align: middle;\n",
       "    }\n",
       "\n",
       "    .dataframe tbody tr th {\n",
       "        vertical-align: top;\n",
       "    }\n",
       "\n",
       "    .dataframe thead th {\n",
       "        text-align: right;\n",
       "    }\n",
       "</style>\n",
       "<table border=\"1\" class=\"dataframe\">\n",
       "  <thead>\n",
       "    <tr style=\"text-align: right;\">\n",
       "      <th></th>\n",
       "      <th>pages</th>\n",
       "      <th>midband</th>\n",
       "      <th>ub</th>\n",
       "      <th>lb</th>\n",
       "      <th>pct_b</th>\n",
       "      <th>user_id</th>\n",
       "    </tr>\n",
       "    <tr>\n",
       "      <th>datetime</th>\n",
       "      <th></th>\n",
       "      <th></th>\n",
       "      <th></th>\n",
       "      <th></th>\n",
       "      <th></th>\n",
       "      <th></th>\n",
       "    </tr>\n",
       "  </thead>\n",
       "  <tbody>\n",
       "    <tr>\n",
       "      <th>2020-07-13</th>\n",
       "      <td>1</td>\n",
       "      <td>0.064516</td>\n",
       "      <td>0.564256</td>\n",
       "      <td>-0.435224</td>\n",
       "      <td>1.435971</td>\n",
       "      <td>268</td>\n",
       "    </tr>\n",
       "    <tr>\n",
       "      <th>2020-01-06</th>\n",
       "      <td>4</td>\n",
       "      <td>0.731796</td>\n",
       "      <td>3.821611</td>\n",
       "      <td>-2.358019</td>\n",
       "      <td>1.028867</td>\n",
       "      <td>470</td>\n",
       "    </tr>\n",
       "    <tr>\n",
       "      <th>2020-12-08</th>\n",
       "      <td>3</td>\n",
       "      <td>0.193757</td>\n",
       "      <td>1.696385</td>\n",
       "      <td>-1.308871</td>\n",
       "      <td>1.433778</td>\n",
       "      <td>663</td>\n",
       "    </tr>\n",
       "    <tr>\n",
       "      <th>2021-01-11</th>\n",
       "      <td>4</td>\n",
       "      <td>0.485490</td>\n",
       "      <td>3.697520</td>\n",
       "      <td>-2.726539</td>\n",
       "      <td>1.047086</td>\n",
       "      <td>704</td>\n",
       "    </tr>\n",
       "    <tr>\n",
       "      <th>2020-12-08</th>\n",
       "      <td>2</td>\n",
       "      <td>0.151420</td>\n",
       "      <td>1.585282</td>\n",
       "      <td>-1.282443</td>\n",
       "      <td>1.144616</td>\n",
       "      <td>707</td>\n",
       "    </tr>\n",
       "    <tr>\n",
       "      <th>2021-01-16</th>\n",
       "      <td>2</td>\n",
       "      <td>0.159236</td>\n",
       "      <td>1.876652</td>\n",
       "      <td>-1.558180</td>\n",
       "      <td>1.035911</td>\n",
       "      <td>757</td>\n",
       "    </tr>\n",
       "  </tbody>\n",
       "</table>\n",
       "</div>"
      ],
      "text/plain": [
       "            pages   midband        ub        lb     pct_b  user_id\n",
       "datetime                                                          \n",
       "2020-07-13      1  0.064516  0.564256 -0.435224  1.435971      268\n",
       "2020-01-06      4  0.731796  3.821611 -2.358019  1.028867      470\n",
       "2020-12-08      3  0.193757  1.696385 -1.308871  1.433778      663\n",
       "2021-01-11      4  0.485490  3.697520 -2.726539  1.047086      704\n",
       "2020-12-08      2  0.151420  1.585282 -1.282443  1.144616      707\n",
       "2021-01-16      2  0.159236  1.876652 -1.558180  1.035911      757"
      ]
     },
     "execution_count": 23,
     "metadata": {},
     "output_type": "execute_result"
    }
   ],
   "source": [
    "# use span = 30 and k = 2 billinger bands to get the anomalies\n",
    "span = 30\n",
    "weight = 2\n",
    "\n",
    "anomalies_active = pd.DataFrame()\n",
    "for u in list(df.user_id.unique()):\n",
    "    user_df = find_anomalies(df_active, u, span, weight)\n",
    "    anomalies_active = pd.concat([anomalies_active, user_df], axis=0)\n",
    "anomalies_active[anomalies_active.pages < 5]"
   ]
  },
  {
   "cell_type": "markdown",
   "id": "780b1380",
   "metadata": {},
   "source": [
    "#### 1. user 268"
   ]
  },
  {
   "cell_type": "code",
   "execution_count": 24,
   "id": "dcd352ec",
   "metadata": {},
   "outputs": [
    {
     "data": {
      "text/plain": [
       "Darden    1190\n",
       "Xanadu     303\n",
       "Name: name, dtype: int64"
      ]
     },
     "execution_count": 24,
     "metadata": {},
     "output_type": "execute_result"
    }
   ],
   "source": [
    "# check which cohorts were using this user id\n",
    "df_active[df_active.user_id == 268].name.value_counts()"
   ]
  },
  {
   "cell_type": "code",
   "execution_count": 25,
   "id": "a0f5e32c",
   "metadata": {},
   "outputs": [
    {
     "data": {
      "text/plain": [
       "<AxesSubplot:xlabel='datetime'>"
      ]
     },
     "execution_count": 25,
     "metadata": {},
     "output_type": "execute_result"
    },
    {
     "data": {
      "image/png": "[encoded data removed]",
      "text/plain": [
       "<Figure size 1440x216 with 1 Axes>"
      ]
     },
     "metadata": {
      "needs_background": "light"
     },
     "output_type": "display_data"
    }
   ],
   "source": [
    "# user 268 in Darden \n",
    "prep(df_active[df_active.name == 'Darden'], 268).plot(figsize=(20,3))  # normal"
   ]
  },
  {
   "cell_type": "code",
   "execution_count": 27,
   "id": "877c3241",
   "metadata": {},
   "outputs": [
    {
     "data": {
      "text/html": [
       "<div>\n",
       "<style scoped>\n",
       "    .dataframe tbody tr th:only-of-type {\n",
       "        vertical-align: middle;\n",
       "    }\n",
       "\n",
       "    .dataframe tbody tr th {\n",
       "        vertical-align: top;\n",
       "    }\n",
       "\n",
       "    .dataframe thead th {\n",
       "        text-align: right;\n",
       "    }\n",
       "</style>\n",
       "<table border=\"1\" class=\"dataframe\">\n",
       "  <thead>\n",
       "    <tr style=\"text-align: right;\">\n",
       "      <th></th>\n",
       "      <th>date</th>\n",
       "      <th>time</th>\n",
       "      <th>endpoint</th>\n",
       "      <th>user_id</th>\n",
       "      <th>cohort_id</th>\n",
       "      <th>ip</th>\n",
       "      <th>name</th>\n",
       "      <th>slack</th>\n",
       "      <th>start_date</th>\n",
       "      <th>end_date</th>\n",
       "      <th>program_id</th>\n",
       "      <th>class</th>\n",
       "      <th>topic</th>\n",
       "      <th>program_type</th>\n",
       "    </tr>\n",
       "    <tr>\n",
       "      <th>datetime</th>\n",
       "      <th></th>\n",
       "      <th></th>\n",
       "      <th></th>\n",
       "      <th></th>\n",
       "      <th></th>\n",
       "      <th></th>\n",
       "      <th></th>\n",
       "      <th></th>\n",
       "      <th></th>\n",
       "      <th></th>\n",
       "      <th></th>\n",
       "      <th></th>\n",
       "      <th></th>\n",
       "      <th></th>\n",
       "    </tr>\n",
       "  </thead>\n",
       "  <tbody>\n",
       "    <tr>\n",
       "      <th>2020-07-13 14:52:10</th>\n",
       "      <td>2020-07-13</td>\n",
       "      <td>14:52:10</td>\n",
       "      <td>/</td>\n",
       "      <td>268</td>\n",
       "      <td>59.0</td>\n",
       "      <td>173.174.200.226</td>\n",
       "      <td>Darden</td>\n",
       "      <td>#darden</td>\n",
       "      <td>2020-07-13</td>\n",
       "      <td>2021-01-12</td>\n",
       "      <td>3.0</td>\n",
       "      <td>0</td>\n",
       "      <td>0</td>\n",
       "      <td>DS_program</td>\n",
       "    </tr>\n",
       "  </tbody>\n",
       "</table>\n",
       "</div>"
      ],
      "text/plain": [
       "                           date      time endpoint user_id  cohort_id  \\\n",
       "datetime                                                                \n",
       "2020-07-13 14:52:10  2020-07-13  14:52:10        /     268       59.0   \n",
       "\n",
       "                                  ip    name    slack  start_date    end_date  \\\n",
       "datetime                                                                        \n",
       "2020-07-13 14:52:10  173.174.200.226  Darden  #darden  2020-07-13  2021-01-12   \n",
       "\n",
       "                    program_id class topic program_type  \n",
       "datetime                                                 \n",
       "2020-07-13 14:52:10        3.0     0     0   DS_program  "
      ]
     },
     "execution_count": 27,
     "metadata": {},
     "output_type": "execute_result"
    }
   ],
   "source": [
    "# check Darden cohort program time : 2020-07-13 to 2021-01-12\n",
    "df_active[(df_active.user_id == 268) & (df_active.name == 'Darden')].head(1)"
   ]
  },
  {
   "cell_type": "code",
   "execution_count": 28,
   "id": "d58f9780",
   "metadata": {},
   "outputs": [
    {
     "data": {
      "text/plain": [
       "<AxesSubplot:xlabel='datetime'>"
      ]
     },
     "execution_count": 28,
     "metadata": {},
     "output_type": "execute_result"
    },
    {
     "data": {
      "image/png": "[encoded data removed]",
      "text/plain": [
       "<Figure size 1440x216 with 1 Axes>"
      ]
     },
     "metadata": {
      "needs_background": "light"
     },
     "output_type": "display_data"
    }
   ],
   "source": [
    "# user 268 in Xanadu \n",
    "prep(df_active[df_active.name == 'Xanadu'], 268).plot(figsize=(20,3)) # wired..."
   ]
  },
  {
   "cell_type": "code",
   "execution_count": 29,
   "id": "a37708f8",
   "metadata": {},
   "outputs": [
    {
     "data": {
      "text/html": [
       "<div>\n",
       "<style scoped>\n",
       "    .dataframe tbody tr th:only-of-type {\n",
       "        vertical-align: middle;\n",
       "    }\n",
       "\n",
       "    .dataframe tbody tr th {\n",
       "        vertical-align: top;\n",
       "    }\n",
       "\n",
       "    .dataframe thead th {\n",
       "        text-align: right;\n",
       "    }\n",
       "</style>\n",
       "<table border=\"1\" class=\"dataframe\">\n",
       "  <thead>\n",
       "    <tr style=\"text-align: right;\">\n",
       "      <th></th>\n",
       "      <th>date</th>\n",
       "      <th>time</th>\n",
       "      <th>endpoint</th>\n",
       "      <th>user_id</th>\n",
       "      <th>cohort_id</th>\n",
       "      <th>ip</th>\n",
       "      <th>name</th>\n",
       "      <th>slack</th>\n",
       "      <th>start_date</th>\n",
       "      <th>end_date</th>\n",
       "      <th>program_id</th>\n",
       "      <th>class</th>\n",
       "      <th>topic</th>\n",
       "      <th>program_type</th>\n",
       "    </tr>\n",
       "    <tr>\n",
       "      <th>datetime</th>\n",
       "      <th></th>\n",
       "      <th></th>\n",
       "      <th></th>\n",
       "      <th></th>\n",
       "      <th></th>\n",
       "      <th></th>\n",
       "      <th></th>\n",
       "      <th></th>\n",
       "      <th></th>\n",
       "      <th></th>\n",
       "      <th></th>\n",
       "      <th></th>\n",
       "      <th></th>\n",
       "      <th></th>\n",
       "    </tr>\n",
       "  </thead>\n",
       "  <tbody>\n",
       "    <tr>\n",
       "      <th>2018-09-17 14:16:56</th>\n",
       "      <td>2018-09-17</td>\n",
       "      <td>14:16:56</td>\n",
       "      <td>/</td>\n",
       "      <td>268</td>\n",
       "      <td>26.0</td>\n",
       "      <td>97.105.19.58</td>\n",
       "      <td>Xanadu</td>\n",
       "      <td>#xanadu</td>\n",
       "      <td>2018-09-17</td>\n",
       "      <td>2019-02-08</td>\n",
       "      <td>2.0</td>\n",
       "      <td>0</td>\n",
       "      <td>0</td>\n",
       "      <td>FS_JAVA_program</td>\n",
       "    </tr>\n",
       "  </tbody>\n",
       "</table>\n",
       "</div>"
      ],
      "text/plain": [
       "                           date      time endpoint user_id  cohort_id  \\\n",
       "datetime                                                                \n",
       "2018-09-17 14:16:56  2018-09-17  14:16:56        /     268       26.0   \n",
       "\n",
       "                               ip    name    slack  start_date    end_date  \\\n",
       "datetime                                                                     \n",
       "2018-09-17 14:16:56  97.105.19.58  Xanadu  #xanadu  2018-09-17  2019-02-08   \n",
       "\n",
       "                    program_id class topic     program_type  \n",
       "datetime                                                     \n",
       "2018-09-17 14:16:56        2.0     0     0  FS_JAVA_program  "
      ]
     },
     "execution_count": 29,
     "metadata": {},
     "output_type": "execute_result"
    }
   ],
   "source": [
    "# check Xanadu cohort program time : 2018-09-17 to 2019-02-08\n",
    "df_active[(df_active.user_id == 268) & (df_active.name == 'Xanadu')].head(1)"
   ]
  },
  {
   "cell_type": "markdown",
   "id": "771cc58e",
   "metadata": {},
   "source": [
    "* Cohort Xanadu is from 2018-09-17 to 2019-02-08. User id 268 from cohort Xanadu didn’t log access the curriculum after two weeks of the class which is 2018-10-02.\n",
    "    * This student is a in-person student in FS_JAVA program.\n",
    "    * Maybe dropped the class"
   ]
  },
  {
   "cell_type": "markdown",
   "id": "51d76f16",
   "metadata": {},
   "source": [
    "#### 2. user 470"
   ]
  },
  {
   "cell_type": "code",
   "execution_count": 30,
   "id": "1f087e8a",
   "metadata": {},
   "outputs": [
    {
     "data": {
      "text/plain": [
       "Bayes    468\n",
       "Name: name, dtype: int64"
      ]
     },
     "execution_count": 30,
     "metadata": {},
     "output_type": "execute_result"
    }
   ],
   "source": [
    "# check which cohorts were using this user id\n",
    "df_active[df_active.user_id == 470].name.value_counts()"
   ]
  },
  {
   "cell_type": "code",
   "execution_count": 31,
   "id": "98f22f80",
   "metadata": {
    "scrolled": false
   },
   "outputs": [
    {
     "data": {
      "text/plain": [
       "<AxesSubplot:xlabel='datetime'>"
      ]
     },
     "execution_count": 31,
     "metadata": {},
     "output_type": "execute_result"
    },
    {
     "data": {
      "image/png": "[encoded data removed]",
      "text/plain": [
       "<Figure size 1440x216 with 1 Axes>"
      ]
     },
     "metadata": {
      "needs_background": "light"
     },
     "output_type": "display_data"
    }
   ],
   "source": [
    "# chart for user 470 usage\n",
    "prep(df_active, 470).plot(figsize=(20,3))  # normal"
   ]
  },
  {
   "cell_type": "markdown",
   "id": "b58583cc",
   "metadata": {},
   "source": [
    "* Normal"
   ]
  },
  {
   "cell_type": "markdown",
   "id": "31039371",
   "metadata": {},
   "source": [
    "#### 3. user 663"
   ]
  },
  {
   "cell_type": "code",
   "execution_count": 32,
   "id": "49c2806c",
   "metadata": {},
   "outputs": [
    {
     "data": {
      "text/plain": [
       "Hyperion    290\n",
       "Luna          3\n",
       "Name: name, dtype: int64"
      ]
     },
     "execution_count": 32,
     "metadata": {},
     "output_type": "execute_result"
    }
   ],
   "source": [
    "# check which cohorts were using this user id\n",
    "df_active[df_active.user_id == 663].name.value_counts()"
   ]
  },
  {
   "cell_type": "code",
   "execution_count": 33,
   "id": "ad31212c",
   "metadata": {},
   "outputs": [
    {
     "data": {
      "text/html": [
       "<div>\n",
       "<style scoped>\n",
       "    .dataframe tbody tr th:only-of-type {\n",
       "        vertical-align: middle;\n",
       "    }\n",
       "\n",
       "    .dataframe tbody tr th {\n",
       "        vertical-align: top;\n",
       "    }\n",
       "\n",
       "    .dataframe thead th {\n",
       "        text-align: right;\n",
       "    }\n",
       "</style>\n",
       "<table border=\"1\" class=\"dataframe\">\n",
       "  <thead>\n",
       "    <tr style=\"text-align: right;\">\n",
       "      <th></th>\n",
       "      <th>date</th>\n",
       "      <th>time</th>\n",
       "      <th>endpoint</th>\n",
       "      <th>user_id</th>\n",
       "      <th>cohort_id</th>\n",
       "      <th>ip</th>\n",
       "      <th>name</th>\n",
       "      <th>slack</th>\n",
       "      <th>start_date</th>\n",
       "      <th>end_date</th>\n",
       "      <th>program_id</th>\n",
       "      <th>class</th>\n",
       "      <th>topic</th>\n",
       "      <th>program_type</th>\n",
       "    </tr>\n",
       "    <tr>\n",
       "      <th>datetime</th>\n",
       "      <th></th>\n",
       "      <th></th>\n",
       "      <th></th>\n",
       "      <th></th>\n",
       "      <th></th>\n",
       "      <th></th>\n",
       "      <th></th>\n",
       "      <th></th>\n",
       "      <th></th>\n",
       "      <th></th>\n",
       "      <th></th>\n",
       "      <th></th>\n",
       "      <th></th>\n",
       "      <th></th>\n",
       "    </tr>\n",
       "  </thead>\n",
       "  <tbody>\n",
       "    <tr>\n",
       "      <th>2020-05-27 09:13:12</th>\n",
       "      <td>2020-05-27</td>\n",
       "      <td>09:13:12</td>\n",
       "      <td>/</td>\n",
       "      <td>663</td>\n",
       "      <td>58.0</td>\n",
       "      <td>76.85.110.35</td>\n",
       "      <td>Hyperion</td>\n",
       "      <td>#hyperion</td>\n",
       "      <td>2020-05-26</td>\n",
       "      <td>2020-11-10</td>\n",
       "      <td>2.0</td>\n",
       "      <td>0</td>\n",
       "      <td>0</td>\n",
       "      <td>FS_JAVA_program</td>\n",
       "    </tr>\n",
       "  </tbody>\n",
       "</table>\n",
       "</div>"
      ],
      "text/plain": [
       "                           date      time endpoint user_id  cohort_id  \\\n",
       "datetime                                                                \n",
       "2020-05-27 09:13:12  2020-05-27  09:13:12        /     663       58.0   \n",
       "\n",
       "                               ip      name      slack  start_date  \\\n",
       "datetime                                                             \n",
       "2020-05-27 09:13:12  76.85.110.35  Hyperion  #hyperion  2020-05-26   \n",
       "\n",
       "                       end_date program_id class topic     program_type  \n",
       "datetime                                                                 \n",
       "2020-05-27 09:13:12  2020-11-10        2.0     0     0  FS_JAVA_program  "
      ]
     },
     "execution_count": 33,
     "metadata": {},
     "output_type": "execute_result"
    }
   ],
   "source": [
    "# check cohort Hyperion program time\n",
    "df_active[(df_active.user_id == 663) & (df_active.name == 'Hyperion')].head(1)"
   ]
  },
  {
   "cell_type": "code",
   "execution_count": 34,
   "id": "f0152112",
   "metadata": {},
   "outputs": [
    {
     "data": {
      "text/plain": [
       "<AxesSubplot:xlabel='datetime'>"
      ]
     },
     "execution_count": 34,
     "metadata": {},
     "output_type": "execute_result"
    },
    {
     "data": {
      "image/png": "[encoded data removed]",
      "text/plain": [
       "<Figure size 1440x216 with 1 Axes>"
      ]
     },
     "metadata": {
      "needs_background": "light"
     },
     "output_type": "display_data"
    }
   ],
   "source": [
    "# plot chart for user 663 from Hyperion\n",
    "prep(df_active[df_active.name == 'Hyperion'], 663).plot(figsize=(20,3))"
   ]
  },
  {
   "cell_type": "markdown",
   "id": "3534328a",
   "metadata": {},
   "source": [
    "* Cohort Hyperion is from 2020-05-26 to 2020-11-10. User id 663 from cohort Hyperion didn’t log access the curriculum after 2020-07-21.\n",
    "    * This student is a remote student in FS_JAVA program.\n",
    "    * Maybe dropped the class"
   ]
  },
  {
   "cell_type": "code",
   "execution_count": 35,
   "id": "b6baf221",
   "metadata": {},
   "outputs": [
    {
     "data": {
      "text/html": [
       "<div>\n",
       "<style scoped>\n",
       "    .dataframe tbody tr th:only-of-type {\n",
       "        vertical-align: middle;\n",
       "    }\n",
       "\n",
       "    .dataframe tbody tr th {\n",
       "        vertical-align: top;\n",
       "    }\n",
       "\n",
       "    .dataframe thead th {\n",
       "        text-align: right;\n",
       "    }\n",
       "</style>\n",
       "<table border=\"1\" class=\"dataframe\">\n",
       "  <thead>\n",
       "    <tr style=\"text-align: right;\">\n",
       "      <th></th>\n",
       "      <th>date</th>\n",
       "      <th>time</th>\n",
       "      <th>endpoint</th>\n",
       "      <th>user_id</th>\n",
       "      <th>cohort_id</th>\n",
       "      <th>ip</th>\n",
       "      <th>name</th>\n",
       "      <th>slack</th>\n",
       "      <th>start_date</th>\n",
       "      <th>end_date</th>\n",
       "      <th>program_id</th>\n",
       "      <th>class</th>\n",
       "      <th>topic</th>\n",
       "      <th>program_type</th>\n",
       "    </tr>\n",
       "    <tr>\n",
       "      <th>datetime</th>\n",
       "      <th></th>\n",
       "      <th></th>\n",
       "      <th></th>\n",
       "      <th></th>\n",
       "      <th></th>\n",
       "      <th></th>\n",
       "      <th></th>\n",
       "      <th></th>\n",
       "      <th></th>\n",
       "      <th></th>\n",
       "      <th></th>\n",
       "      <th></th>\n",
       "      <th></th>\n",
       "      <th></th>\n",
       "    </tr>\n",
       "  </thead>\n",
       "  <tbody>\n",
       "    <tr>\n",
       "      <th>2020-12-08 09:38:38</th>\n",
       "      <td>2020-12-08</td>\n",
       "      <td>09:38:38</td>\n",
       "      <td>html-css/css-i/flexbox/flexbox-in-practice</td>\n",
       "      <td>663</td>\n",
       "      <td>134.0</td>\n",
       "      <td>70.120.8.59</td>\n",
       "      <td>Luna</td>\n",
       "      <td>#luna</td>\n",
       "      <td>2020-12-07</td>\n",
       "      <td>2021-06-08</td>\n",
       "      <td>2.0</td>\n",
       "      <td>html-css</td>\n",
       "      <td>css-i</td>\n",
       "      <td>FS_JAVA_program</td>\n",
       "    </tr>\n",
       "    <tr>\n",
       "      <th>2020-12-08 09:50:19</th>\n",
       "      <td>2020-12-08</td>\n",
       "      <td>09:50:19</td>\n",
       "      <td>/</td>\n",
       "      <td>663</td>\n",
       "      <td>134.0</td>\n",
       "      <td>70.120.8.59</td>\n",
       "      <td>Luna</td>\n",
       "      <td>#luna</td>\n",
       "      <td>2020-12-07</td>\n",
       "      <td>2021-06-08</td>\n",
       "      <td>2.0</td>\n",
       "      <td>0</td>\n",
       "      <td>0</td>\n",
       "      <td>FS_JAVA_program</td>\n",
       "    </tr>\n",
       "    <tr>\n",
       "      <th>2020-12-08 09:50:25</th>\n",
       "      <td>2020-12-08</td>\n",
       "      <td>09:50:25</td>\n",
       "      <td>javascript-i</td>\n",
       "      <td>663</td>\n",
       "      <td>134.0</td>\n",
       "      <td>70.120.8.59</td>\n",
       "      <td>Luna</td>\n",
       "      <td>#luna</td>\n",
       "      <td>2020-12-07</td>\n",
       "      <td>2021-06-08</td>\n",
       "      <td>2.0</td>\n",
       "      <td>javascript-i</td>\n",
       "      <td>0</td>\n",
       "      <td>FS_JAVA_program</td>\n",
       "    </tr>\n",
       "  </tbody>\n",
       "</table>\n",
       "</div>"
      ],
      "text/plain": [
       "                           date      time  \\\n",
       "datetime                                    \n",
       "2020-12-08 09:38:38  2020-12-08  09:38:38   \n",
       "2020-12-08 09:50:19  2020-12-08  09:50:19   \n",
       "2020-12-08 09:50:25  2020-12-08  09:50:25   \n",
       "\n",
       "                                                       endpoint user_id  \\\n",
       "datetime                                                                  \n",
       "2020-12-08 09:38:38  html-css/css-i/flexbox/flexbox-in-practice     663   \n",
       "2020-12-08 09:50:19                                           /     663   \n",
       "2020-12-08 09:50:25                                javascript-i     663   \n",
       "\n",
       "                     cohort_id           ip  name  slack  start_date  \\\n",
       "datetime                                                               \n",
       "2020-12-08 09:38:38      134.0  70.120.8.59  Luna  #luna  2020-12-07   \n",
       "2020-12-08 09:50:19      134.0  70.120.8.59  Luna  #luna  2020-12-07   \n",
       "2020-12-08 09:50:25      134.0  70.120.8.59  Luna  #luna  2020-12-07   \n",
       "\n",
       "                       end_date program_id         class  topic  \\\n",
       "datetime                                                          \n",
       "2020-12-08 09:38:38  2021-06-08        2.0      html-css  css-i   \n",
       "2020-12-08 09:50:19  2021-06-08        2.0             0      0   \n",
       "2020-12-08 09:50:25  2021-06-08        2.0  javascript-i      0   \n",
       "\n",
       "                        program_type  \n",
       "datetime                              \n",
       "2020-12-08 09:38:38  FS_JAVA_program  \n",
       "2020-12-08 09:50:19  FS_JAVA_program  \n",
       "2020-12-08 09:50:25  FS_JAVA_program  "
      ]
     },
     "execution_count": 35,
     "metadata": {},
     "output_type": "execute_result"
    }
   ],
   "source": [
    "# user 663 from Luna\n",
    "df_active[(df_active.user_id == 663) & (df_active.name == 'Luna')]"
   ]
  },
  {
   "cell_type": "markdown",
   "id": "b088947e",
   "metadata": {},
   "source": [
    "* User id 663 from cohort Luna didn’t log access the curriculum after the second day of the class."
   ]
  },
  {
   "cell_type": "markdown",
   "id": "787bdf39",
   "metadata": {},
   "source": [
    "#### 4. user 704"
   ]
  },
  {
   "cell_type": "code",
   "execution_count": 36,
   "id": "5a98f8a9",
   "metadata": {},
   "outputs": [
    {
     "data": {
      "text/plain": [
       "Bash    227\n",
       "Name: name, dtype: int64"
      ]
     },
     "execution_count": 36,
     "metadata": {},
     "output_type": "execute_result"
    }
   ],
   "source": [
    "# check which cohorts were using this user id\n",
    "df_active[df_active.user_id == 704].name.value_counts()"
   ]
  },
  {
   "cell_type": "code",
   "execution_count": 37,
   "id": "99615dc8",
   "metadata": {},
   "outputs": [
    {
     "data": {
      "text/html": [
       "<div>\n",
       "<style scoped>\n",
       "    .dataframe tbody tr th:only-of-type {\n",
       "        vertical-align: middle;\n",
       "    }\n",
       "\n",
       "    .dataframe tbody tr th {\n",
       "        vertical-align: top;\n",
       "    }\n",
       "\n",
       "    .dataframe thead th {\n",
       "        text-align: right;\n",
       "    }\n",
       "</style>\n",
       "<table border=\"1\" class=\"dataframe\">\n",
       "  <thead>\n",
       "    <tr style=\"text-align: right;\">\n",
       "      <th></th>\n",
       "      <th>date</th>\n",
       "      <th>time</th>\n",
       "      <th>endpoint</th>\n",
       "      <th>user_id</th>\n",
       "      <th>cohort_id</th>\n",
       "      <th>ip</th>\n",
       "      <th>name</th>\n",
       "      <th>slack</th>\n",
       "      <th>start_date</th>\n",
       "      <th>end_date</th>\n",
       "      <th>program_id</th>\n",
       "      <th>class</th>\n",
       "      <th>topic</th>\n",
       "      <th>program_type</th>\n",
       "    </tr>\n",
       "    <tr>\n",
       "      <th>datetime</th>\n",
       "      <th></th>\n",
       "      <th></th>\n",
       "      <th></th>\n",
       "      <th></th>\n",
       "      <th></th>\n",
       "      <th></th>\n",
       "      <th></th>\n",
       "      <th></th>\n",
       "      <th></th>\n",
       "      <th></th>\n",
       "      <th></th>\n",
       "      <th></th>\n",
       "      <th></th>\n",
       "      <th></th>\n",
       "    </tr>\n",
       "  </thead>\n",
       "  <tbody>\n",
       "    <tr>\n",
       "      <th>2020-07-20 14:08:30</th>\n",
       "      <td>2020-07-20</td>\n",
       "      <td>14:08:30</td>\n",
       "      <td>/</td>\n",
       "      <td>704</td>\n",
       "      <td>61.0</td>\n",
       "      <td>76.185.33.217</td>\n",
       "      <td>Bash</td>\n",
       "      <td>#bash</td>\n",
       "      <td>2020-07-20</td>\n",
       "      <td>2021-01-21</td>\n",
       "      <td>2.0</td>\n",
       "      <td>0</td>\n",
       "      <td>0</td>\n",
       "      <td>FS_JAVA_program</td>\n",
       "    </tr>\n",
       "  </tbody>\n",
       "</table>\n",
       "</div>"
      ],
      "text/plain": [
       "                           date      time endpoint user_id  cohort_id  \\\n",
       "datetime                                                                \n",
       "2020-07-20 14:08:30  2020-07-20  14:08:30        /     704       61.0   \n",
       "\n",
       "                                ip  name  slack  start_date    end_date  \\\n",
       "datetime                                                                  \n",
       "2020-07-20 14:08:30  76.185.33.217  Bash  #bash  2020-07-20  2021-01-21   \n",
       "\n",
       "                    program_id class topic     program_type  \n",
       "datetime                                                     \n",
       "2020-07-20 14:08:30        2.0     0     0  FS_JAVA_program  "
      ]
     },
     "execution_count": 37,
     "metadata": {},
     "output_type": "execute_result"
    }
   ],
   "source": [
    "# check cohort Bash date frame\n",
    "df_active[df_active.user_id == 704].head(1)"
   ]
  },
  {
   "cell_type": "code",
   "execution_count": 38,
   "id": "d90cacb2",
   "metadata": {},
   "outputs": [
    {
     "data": {
      "text/plain": [
       "<AxesSubplot:xlabel='datetime'>"
      ]
     },
     "execution_count": 38,
     "metadata": {},
     "output_type": "execute_result"
    },
    {
     "data": {
      "image/png": "[encoded data removed]",
      "text/plain": [
       "<Figure size 1440x216 with 1 Axes>"
      ]
     },
     "metadata": {
      "needs_background": "light"
     },
     "output_type": "display_data"
    }
   ],
   "source": [
    "# user 704 usage chart\n",
    "prep(df_active, 704).plot(figsize=(20,3))"
   ]
  },
  {
   "cell_type": "markdown",
   "id": "3bb62e00",
   "metadata": {},
   "source": [
    "* User 704 from cohort Bash only access the curriculum in the beginning for 4 days, in the  middle for about one week and at the last five days of the program"
   ]
  },
  {
   "cell_type": "markdown",
   "id": "0e091170",
   "metadata": {},
   "source": [
    "#### 5. user 707"
   ]
  },
  {
   "cell_type": "code",
   "execution_count": 39,
   "id": "1f0552e0",
   "metadata": {},
   "outputs": [
    {
     "data": {
      "text/plain": [
       "Luna    559\n",
       "Bash    277\n",
       "Name: name, dtype: int64"
      ]
     },
     "execution_count": 39,
     "metadata": {},
     "output_type": "execute_result"
    }
   ],
   "source": [
    "# check which cohorts were using this user id\n",
    "df_active[df_active.user_id == 707].name.value_counts()"
   ]
  },
  {
   "cell_type": "code",
   "execution_count": 40,
   "id": "bad9915d",
   "metadata": {},
   "outputs": [
    {
     "data": {
      "text/plain": [
       "<AxesSubplot:xlabel='datetime'>"
      ]
     },
     "execution_count": 40,
     "metadata": {},
     "output_type": "execute_result"
    },
    {
     "data": {
      "image/png": "[encoded data removed]",
      "text/plain": [
       "<Figure size 1440x216 with 1 Axes>"
      ]
     },
     "metadata": {
      "needs_background": "light"
     },
     "output_type": "display_data"
    }
   ],
   "source": [
    "# user 707 from Luna\n",
    "prep(df_active[df_active.name == 'Luna'], 707).plot(figsize=(20,3)) # normal"
   ]
  },
  {
   "cell_type": "code",
   "execution_count": 41,
   "id": "688e9461",
   "metadata": {},
   "outputs": [
    {
     "data": {
      "text/plain": [
       "<AxesSubplot:xlabel='datetime'>"
      ]
     },
     "execution_count": 41,
     "metadata": {},
     "output_type": "execute_result"
    },
    {
     "data": {
      "image/png": "[encoded data removed]",
      "text/plain": [
       "<Figure size 1440x216 with 1 Axes>"
      ]
     },
     "metadata": {
      "needs_background": "light"
     },
     "output_type": "display_data"
    }
   ],
   "source": [
    "# user 707 from Bash\n",
    "prep(df_active[df_active.name == 'Bash'], 707).plot(figsize=(20,3))"
   ]
  },
  {
   "cell_type": "code",
   "execution_count": 42,
   "id": "c41b89ea",
   "metadata": {},
   "outputs": [
    {
     "data": {
      "text/html": [
       "<div>\n",
       "<style scoped>\n",
       "    .dataframe tbody tr th:only-of-type {\n",
       "        vertical-align: middle;\n",
       "    }\n",
       "\n",
       "    .dataframe tbody tr th {\n",
       "        vertical-align: top;\n",
       "    }\n",
       "\n",
       "    .dataframe thead th {\n",
       "        text-align: right;\n",
       "    }\n",
       "</style>\n",
       "<table border=\"1\" class=\"dataframe\">\n",
       "  <thead>\n",
       "    <tr style=\"text-align: right;\">\n",
       "      <th></th>\n",
       "      <th>date</th>\n",
       "      <th>time</th>\n",
       "      <th>endpoint</th>\n",
       "      <th>user_id</th>\n",
       "      <th>cohort_id</th>\n",
       "      <th>ip</th>\n",
       "      <th>name</th>\n",
       "      <th>slack</th>\n",
       "      <th>start_date</th>\n",
       "      <th>end_date</th>\n",
       "      <th>program_id</th>\n",
       "      <th>class</th>\n",
       "      <th>topic</th>\n",
       "      <th>program_type</th>\n",
       "    </tr>\n",
       "    <tr>\n",
       "      <th>datetime</th>\n",
       "      <th></th>\n",
       "      <th></th>\n",
       "      <th></th>\n",
       "      <th></th>\n",
       "      <th></th>\n",
       "      <th></th>\n",
       "      <th></th>\n",
       "      <th></th>\n",
       "      <th></th>\n",
       "      <th></th>\n",
       "      <th></th>\n",
       "      <th></th>\n",
       "      <th></th>\n",
       "      <th></th>\n",
       "    </tr>\n",
       "  </thead>\n",
       "  <tbody>\n",
       "    <tr>\n",
       "      <th>2020-07-20 14:08:42</th>\n",
       "      <td>2020-07-20</td>\n",
       "      <td>14:08:42</td>\n",
       "      <td>/</td>\n",
       "      <td>707</td>\n",
       "      <td>61.0</td>\n",
       "      <td>47.188.180.229</td>\n",
       "      <td>Bash</td>\n",
       "      <td>#bash</td>\n",
       "      <td>2020-07-20</td>\n",
       "      <td>2021-01-21</td>\n",
       "      <td>2.0</td>\n",
       "      <td>0</td>\n",
       "      <td>0</td>\n",
       "      <td>FS_JAVA_program</td>\n",
       "    </tr>\n",
       "  </tbody>\n",
       "</table>\n",
       "</div>"
      ],
      "text/plain": [
       "                           date      time endpoint user_id  cohort_id  \\\n",
       "datetime                                                                \n",
       "2020-07-20 14:08:42  2020-07-20  14:08:42        /     707       61.0   \n",
       "\n",
       "                                 ip  name  slack  start_date    end_date  \\\n",
       "datetime                                                                   \n",
       "2020-07-20 14:08:42  47.188.180.229  Bash  #bash  2020-07-20  2021-01-21   \n",
       "\n",
       "                    program_id class topic     program_type  \n",
       "datetime                                                     \n",
       "2020-07-20 14:08:42        2.0     0     0  FS_JAVA_program  "
      ]
     },
     "execution_count": 42,
     "metadata": {},
     "output_type": "execute_result"
    }
   ],
   "source": [
    "# check Bash program date\n",
    "df_active[(df_active.user_id == 707) & (df_active.name == 'Bash')].head(1)"
   ]
  },
  {
   "cell_type": "markdown",
   "id": "c1c781dd",
   "metadata": {},
   "source": [
    "* Cohort Bash is from 2020-07-29 to 2021-01-21. User id 707 from cohort Bash didn’t log access the curriculum after 2020-11-20.\n",
    "    * This student is a remote student in FS_JAVA program.\n",
    "    * Maybe dropped the class."
   ]
  },
  {
   "cell_type": "markdown",
   "id": "26bedcc6",
   "metadata": {},
   "source": [
    "#### 6. user 757"
   ]
  },
  {
   "cell_type": "code",
   "execution_count": 44,
   "id": "131dc6d9",
   "metadata": {},
   "outputs": [
    {
     "data": {
      "text/plain": [
       "Jupiter    258\n",
       "Name: name, dtype: int64"
      ]
     },
     "execution_count": 44,
     "metadata": {},
     "output_type": "execute_result"
    }
   ],
   "source": [
    "# check which cohorts were using this user id\n",
    "df_active[df_active.user_id == 757].name.value_counts()"
   ]
  },
  {
   "cell_type": "code",
   "execution_count": 45,
   "id": "d57865a4",
   "metadata": {},
   "outputs": [
    {
     "data": {
      "text/plain": [
       "<AxesSubplot:xlabel='datetime'>"
      ]
     },
     "execution_count": 45,
     "metadata": {},
     "output_type": "execute_result"
    },
    {
     "data": {
      "image/png": "[encoded data removed]",
      "text/plain": [
       "<Figure size 1440x216 with 1 Axes>"
      ]
     },
     "metadata": {
      "needs_background": "light"
     },
     "output_type": "display_data"
    }
   ],
   "source": [
    "# user 757 from Jupiter usage\n",
    "prep(df_active, 757).plot(figsize=(20,3))"
   ]
  },
  {
   "cell_type": "code",
   "execution_count": 52,
   "id": "a86c2f68",
   "metadata": {},
   "outputs": [
    {
     "data": {
      "text/html": [
       "<div>\n",
       "<style scoped>\n",
       "    .dataframe tbody tr th:only-of-type {\n",
       "        vertical-align: middle;\n",
       "    }\n",
       "\n",
       "    .dataframe tbody tr th {\n",
       "        vertical-align: top;\n",
       "    }\n",
       "\n",
       "    .dataframe thead th {\n",
       "        text-align: right;\n",
       "    }\n",
       "</style>\n",
       "<table border=\"1\" class=\"dataframe\">\n",
       "  <thead>\n",
       "    <tr style=\"text-align: right;\">\n",
       "      <th></th>\n",
       "      <th>date</th>\n",
       "      <th>time</th>\n",
       "      <th>endpoint</th>\n",
       "      <th>user_id</th>\n",
       "      <th>cohort_id</th>\n",
       "      <th>ip</th>\n",
       "      <th>name</th>\n",
       "      <th>slack</th>\n",
       "      <th>start_date</th>\n",
       "      <th>end_date</th>\n",
       "      <th>program_id</th>\n",
       "      <th>class</th>\n",
       "      <th>topic</th>\n",
       "      <th>program_type</th>\n",
       "    </tr>\n",
       "    <tr>\n",
       "      <th>datetime</th>\n",
       "      <th></th>\n",
       "      <th></th>\n",
       "      <th></th>\n",
       "      <th></th>\n",
       "      <th></th>\n",
       "      <th></th>\n",
       "      <th></th>\n",
       "      <th></th>\n",
       "      <th></th>\n",
       "      <th></th>\n",
       "      <th></th>\n",
       "      <th></th>\n",
       "      <th></th>\n",
       "      <th></th>\n",
       "    </tr>\n",
       "  </thead>\n",
       "  <tbody>\n",
       "    <tr>\n",
       "      <th>2021-01-16 15:07:56</th>\n",
       "      <td>2021-01-16</td>\n",
       "      <td>15:07:56</td>\n",
       "      <td>toc</td>\n",
       "      <td>757</td>\n",
       "      <td>62.0</td>\n",
       "      <td>136.50.5.58</td>\n",
       "      <td>Jupiter</td>\n",
       "      <td>#jupiter</td>\n",
       "      <td>2020-09-21</td>\n",
       "      <td>2021-03-30</td>\n",
       "      <td>2.0</td>\n",
       "      <td>toc</td>\n",
       "      <td>0</td>\n",
       "      <td>FS_JAVA_program</td>\n",
       "    </tr>\n",
       "  </tbody>\n",
       "</table>\n",
       "</div>"
      ],
      "text/plain": [
       "                           date      time endpoint user_id  cohort_id  \\\n",
       "datetime                                                                \n",
       "2021-01-16 15:07:56  2021-01-16  15:07:56      toc     757       62.0   \n",
       "\n",
       "                              ip     name     slack  start_date    end_date  \\\n",
       "datetime                                                                      \n",
       "2021-01-16 15:07:56  136.50.5.58  Jupiter  #jupiter  2020-09-21  2021-03-30   \n",
       "\n",
       "                    program_id class topic     program_type  \n",
       "datetime                                                     \n",
       "2021-01-16 15:07:56        2.0   toc     0  FS_JAVA_program  "
      ]
     },
     "execution_count": 52,
     "metadata": {},
     "output_type": "execute_result"
    }
   ],
   "source": [
    "# check Juputer program date\n",
    "df_active[df_active.user_id == 757].tail(1)"
   ]
  },
  {
   "cell_type": "markdown",
   "id": "6e7d251c",
   "metadata": {},
   "source": [
    "* Cohort Jupiter is from 2020-09-21 to 2021-03-30. User id 757 from cohort Jupiter hardly access the curriculum after the class stared one month and stopped accessing the curriculum after 2021-01-16.\n",
    "    * This student is a remote student in FS_JAVA program.\n",
    "    * Maybe dropped the class."
   ]
  },
  {
   "cell_type": "markdown",
   "id": "d3011345",
   "metadata": {},
   "source": [
    "### Q3 Answer:\n",
    "\n",
    "1. The active student hardly access the curriculum is user 704 from Bash cohort, this is a remote student from Full Stack JAVA program. \n",
    "2. Students might dropped the class before program end date: \n",
    "    * User 268 from Xanadu (Full Stack JAVA, in-person),\n",
    "    * user 663 from Hyperion (Full Stack JAVA, remote),\n",
    "    * user 663 from Luna (Full Stack JAVA, remote),\n",
    "    * user 707 from Bash (Full Stack JAVA, remote),\n",
    "    * user 757 from Jupiter (Full Stack JAVA, remote)."
   ]
  },
  {
   "cell_type": "markdown",
   "id": "20d73b4a",
   "metadata": {},
   "source": [
    "### 4. Is there any suspicious activity, such as users/machines/etc accessing the curriculum who shouldn’t be? Does it appear that any web-scraping is happening? Are there any suspicious IP addresses?"
   ]
  },
  {
   "cell_type": "markdown",
   "id": "1a3aa987",
   "metadata": {},
   "source": [
    "* web-scraping detection with Bollinger Bands method"
   ]
  },
  {
   "cell_type": "code",
   "execution_count": 53,
   "id": "18640b94",
   "metadata": {},
   "outputs": [
    {
     "data": {
      "text/html": [
       "<div>\n",
       "<style scoped>\n",
       "    .dataframe tbody tr th:only-of-type {\n",
       "        vertical-align: middle;\n",
       "    }\n",
       "\n",
       "    .dataframe tbody tr th {\n",
       "        vertical-align: top;\n",
       "    }\n",
       "\n",
       "    .dataframe thead th {\n",
       "        text-align: right;\n",
       "    }\n",
       "</style>\n",
       "<table border=\"1\" class=\"dataframe\">\n",
       "  <thead>\n",
       "    <tr style=\"text-align: right;\">\n",
       "      <th></th>\n",
       "      <th>pages</th>\n",
       "      <th>midband</th>\n",
       "      <th>ub</th>\n",
       "      <th>lb</th>\n",
       "      <th>pct_b</th>\n",
       "      <th>user_id</th>\n",
       "    </tr>\n",
       "    <tr>\n",
       "      <th>datetime</th>\n",
       "      <th></th>\n",
       "      <th></th>\n",
       "      <th></th>\n",
       "      <th></th>\n",
       "      <th></th>\n",
       "      <th></th>\n",
       "    </tr>\n",
       "  </thead>\n",
       "  <tbody>\n",
       "    <tr>\n",
       "      <th>2020-07-22</th>\n",
       "      <td>285</td>\n",
       "      <td>44.915959</td>\n",
       "      <td>266.290617</td>\n",
       "      <td>-176.458698</td>\n",
       "      <td>1.042257</td>\n",
       "      <td>11</td>\n",
       "    </tr>\n",
       "    <tr>\n",
       "      <th>2018-12-19</th>\n",
       "      <td>225</td>\n",
       "      <td>20.831494</td>\n",
       "      <td>216.533997</td>\n",
       "      <td>-174.871009</td>\n",
       "      <td>1.021630</td>\n",
       "      <td>313</td>\n",
       "    </tr>\n",
       "    <tr>\n",
       "      <th>2019-03-03</th>\n",
       "      <td>272</td>\n",
       "      <td>24.721632</td>\n",
       "      <td>232.200343</td>\n",
       "      <td>-182.757078</td>\n",
       "      <td>1.095913</td>\n",
       "      <td>341</td>\n",
       "    </tr>\n",
       "    <tr>\n",
       "      <th>2019-07-25</th>\n",
       "      <td>253</td>\n",
       "      <td>34.698961</td>\n",
       "      <td>222.709718</td>\n",
       "      <td>-153.311796</td>\n",
       "      <td>1.080555</td>\n",
       "      <td>422</td>\n",
       "    </tr>\n",
       "    <tr>\n",
       "      <th>2020-04-05</th>\n",
       "      <td>232</td>\n",
       "      <td>32.133967</td>\n",
       "      <td>205.731770</td>\n",
       "      <td>-141.463837</td>\n",
       "      <td>1.075658</td>\n",
       "      <td>570</td>\n",
       "    </tr>\n",
       "    <tr>\n",
       "      <th>2020-04-16</th>\n",
       "      <td>271</td>\n",
       "      <td>44.194413</td>\n",
       "      <td>267.834945</td>\n",
       "      <td>-179.446120</td>\n",
       "      <td>1.007076</td>\n",
       "      <td>570</td>\n",
       "    </tr>\n",
       "  </tbody>\n",
       "</table>\n",
       "</div>"
      ],
      "text/plain": [
       "            pages    midband          ub          lb     pct_b  user_id\n",
       "datetime                                                               \n",
       "2020-07-22    285  44.915959  266.290617 -176.458698  1.042257       11\n",
       "2018-12-19    225  20.831494  216.533997 -174.871009  1.021630      313\n",
       "2019-03-03    272  24.721632  232.200343 -182.757078  1.095913      341\n",
       "2019-07-25    253  34.698961  222.709718 -153.311796  1.080555      422\n",
       "2020-04-05    232  32.133967  205.731770 -141.463837  1.075658      570\n",
       "2020-04-16    271  44.194413  267.834945 -179.446120  1.007076      570"
      ]
     },
     "execution_count": 53,
     "metadata": {},
     "output_type": "execute_result"
    }
   ],
   "source": [
    "# user Bollinger Bands with span = 30, K = 3\n",
    "span = 30\n",
    "weight = 3\n",
    "\n",
    "anomalies = pd.DataFrame()\n",
    "for u in list(df.user_id.unique()):\n",
    "    user_df = find_anomalies(df, u, span, weight)\n",
    "    anomalies = pd.concat([anomalies, user_df], axis=0)\n",
    "anomalies[anomalies.pages > 200]"
   ]
  },
  {
   "cell_type": "markdown",
   "id": "e9974850",
   "metadata": {},
   "source": [
    "### 1. user 11"
   ]
  },
  {
   "cell_type": "code",
   "execution_count": 54,
   "id": "643766e5",
   "metadata": {},
   "outputs": [
    {
     "data": {
      "text/html": [
       "<div>\n",
       "<style scoped>\n",
       "    .dataframe tbody tr th:only-of-type {\n",
       "        vertical-align: middle;\n",
       "    }\n",
       "\n",
       "    .dataframe tbody tr th {\n",
       "        vertical-align: top;\n",
       "    }\n",
       "\n",
       "    .dataframe thead th {\n",
       "        text-align: right;\n",
       "    }\n",
       "</style>\n",
       "<table border=\"1\" class=\"dataframe\">\n",
       "  <thead>\n",
       "    <tr style=\"text-align: right;\">\n",
       "      <th></th>\n",
       "      <th>pages</th>\n",
       "      <th>midband</th>\n",
       "      <th>ub</th>\n",
       "      <th>lb</th>\n",
       "      <th>pct_b</th>\n",
       "      <th>user_id</th>\n",
       "    </tr>\n",
       "    <tr>\n",
       "      <th>datetime</th>\n",
       "      <th></th>\n",
       "      <th></th>\n",
       "      <th></th>\n",
       "      <th></th>\n",
       "      <th></th>\n",
       "      <th></th>\n",
       "    </tr>\n",
       "  </thead>\n",
       "  <tbody>\n",
       "    <tr>\n",
       "      <th>2018-12-17</th>\n",
       "      <td>97</td>\n",
       "      <td>10.778722</td>\n",
       "      <td>85.136992</td>\n",
       "      <td>-63.579548</td>\n",
       "      <td>1.079769</td>\n",
       "      <td>11</td>\n",
       "    </tr>\n",
       "    <tr>\n",
       "      <th>2019-05-07</th>\n",
       "      <td>126</td>\n",
       "      <td>20.394919</td>\n",
       "      <td>115.779945</td>\n",
       "      <td>-74.990106</td>\n",
       "      <td>1.053573</td>\n",
       "      <td>11</td>\n",
       "    </tr>\n",
       "    <tr>\n",
       "      <th>2020-02-04</th>\n",
       "      <td>71</td>\n",
       "      <td>13.902738</td>\n",
       "      <td>69.434283</td>\n",
       "      <td>-41.628807</td>\n",
       "      <td>1.014098</td>\n",
       "      <td>11</td>\n",
       "    </tr>\n",
       "    <tr>\n",
       "      <th>2020-07-22</th>\n",
       "      <td>285</td>\n",
       "      <td>44.915959</td>\n",
       "      <td>266.290617</td>\n",
       "      <td>-176.458698</td>\n",
       "      <td>1.042257</td>\n",
       "      <td>11</td>\n",
       "    </tr>\n",
       "    <tr>\n",
       "      <th>2021-02-22</th>\n",
       "      <td>78</td>\n",
       "      <td>12.877736</td>\n",
       "      <td>77.587641</td>\n",
       "      <td>-51.832169</td>\n",
       "      <td>1.003186</td>\n",
       "      <td>11</td>\n",
       "    </tr>\n",
       "  </tbody>\n",
       "</table>\n",
       "</div>"
      ],
      "text/plain": [
       "            pages    midband          ub          lb     pct_b  user_id\n",
       "datetime                                                               \n",
       "2018-12-17     97  10.778722   85.136992  -63.579548  1.079769       11\n",
       "2019-05-07    126  20.394919  115.779945  -74.990106  1.053573       11\n",
       "2020-02-04     71  13.902738   69.434283  -41.628807  1.014098       11\n",
       "2020-07-22    285  44.915959  266.290617 -176.458698  1.042257       11\n",
       "2021-02-22     78  12.877736   77.587641  -51.832169  1.003186       11"
      ]
     },
     "execution_count": 54,
     "metadata": {},
     "output_type": "execute_result"
    }
   ],
   "source": [
    "# check all anomalies from user 11\n",
    "anomalies[anomalies.user_id==11]"
   ]
  },
  {
   "cell_type": "code",
   "execution_count": 55,
   "id": "b0b6c026",
   "metadata": {},
   "outputs": [
    {
     "data": {
      "text/plain": [
       "Staff    285\n",
       "Name: name, dtype: int64"
      ]
     },
     "execution_count": 55,
     "metadata": {},
     "output_type": "execute_result"
    }
   ],
   "source": [
    "# check user name on 2020-07-22\n",
    "df[(df.user_id==11) & (df.date == '2020-07-22')].name.value_counts() # this one is safe"
   ]
  },
  {
   "cell_type": "code",
   "execution_count": 56,
   "id": "596f0d79",
   "metadata": {},
   "outputs": [
    {
     "data": {
      "text/plain": [
       "Staff    126\n",
       "Name: name, dtype: int64"
      ]
     },
     "execution_count": 56,
     "metadata": {},
     "output_type": "execute_result"
    }
   ],
   "source": [
    "# check user name on 2019-05-07\n",
    "df[(df.user_id==11) & (df.date == '2019-05-07')].name.value_counts() # this one is safe"
   ]
  },
  {
   "cell_type": "code",
   "execution_count": 57,
   "id": "0a459808",
   "metadata": {},
   "outputs": [
    {
     "data": {
      "text/plain": [
       "<AxesSubplot:xlabel='datetime'>"
      ]
     },
     "execution_count": 57,
     "metadata": {},
     "output_type": "execute_result"
    },
    {
     "data": {
      "image/png": "[encoded data removed]",
      "text/plain": [
       "<Figure size 1440x216 with 1 Axes>"
      ]
     },
     "metadata": {
      "needs_background": "light"
     },
     "output_type": "display_data"
    }
   ],
   "source": [
    "# chart for user 11\n",
    "prep(df, 11).plot(figsize=(20,3))"
   ]
  },
  {
   "cell_type": "markdown",
   "id": "e87fed1e",
   "metadata": {},
   "source": [
    "* user 11 is codeup staff, it's safe."
   ]
  },
  {
   "cell_type": "markdown",
   "id": "6eb58c97",
   "metadata": {},
   "source": [
    "### 2. user 313"
   ]
  },
  {
   "cell_type": "code",
   "execution_count": 58,
   "id": "476dcf11",
   "metadata": {},
   "outputs": [
    {
     "data": {
      "text/html": [
       "<div>\n",
       "<style scoped>\n",
       "    .dataframe tbody tr th:only-of-type {\n",
       "        vertical-align: middle;\n",
       "    }\n",
       "\n",
       "    .dataframe tbody tr th {\n",
       "        vertical-align: top;\n",
       "    }\n",
       "\n",
       "    .dataframe thead th {\n",
       "        text-align: right;\n",
       "    }\n",
       "</style>\n",
       "<table border=\"1\" class=\"dataframe\">\n",
       "  <thead>\n",
       "    <tr style=\"text-align: right;\">\n",
       "      <th></th>\n",
       "      <th>pages</th>\n",
       "      <th>midband</th>\n",
       "      <th>ub</th>\n",
       "      <th>lb</th>\n",
       "      <th>pct_b</th>\n",
       "      <th>user_id</th>\n",
       "    </tr>\n",
       "    <tr>\n",
       "      <th>datetime</th>\n",
       "      <th></th>\n",
       "      <th></th>\n",
       "      <th></th>\n",
       "      <th></th>\n",
       "      <th></th>\n",
       "      <th></th>\n",
       "    </tr>\n",
       "  </thead>\n",
       "  <tbody>\n",
       "    <tr>\n",
       "      <th>2018-12-19</th>\n",
       "      <td>225</td>\n",
       "      <td>20.831494</td>\n",
       "      <td>216.533997</td>\n",
       "      <td>-174.871009</td>\n",
       "      <td>1.02163</td>\n",
       "      <td>313</td>\n",
       "    </tr>\n",
       "  </tbody>\n",
       "</table>\n",
       "</div>"
      ],
      "text/plain": [
       "            pages    midband          ub          lb    pct_b  user_id\n",
       "datetime                                                              \n",
       "2018-12-19    225  20.831494  216.533997 -174.871009  1.02163      313"
      ]
     },
     "execution_count": 58,
     "metadata": {},
     "output_type": "execute_result"
    }
   ],
   "source": [
    "# check all anomalies from user 313\n",
    "anomalies[anomalies.user_id==313]"
   ]
  },
  {
   "cell_type": "code",
   "execution_count": 59,
   "id": "98b900d5",
   "metadata": {},
   "outputs": [
    {
     "data": {
      "text/plain": [
       "<AxesSubplot:xlabel='datetime'>"
      ]
     },
     "execution_count": 59,
     "metadata": {},
     "output_type": "execute_result"
    },
    {
     "data": {
      "image/png": "[encoded data removed]",
      "text/plain": [
       "<Figure size 1440x216 with 1 Axes>"
      ]
     },
     "metadata": {
      "needs_background": "light"
     },
     "output_type": "display_data"
    }
   ],
   "source": [
    "# viz user 313\n",
    "prep(df, 313).plot(figsize=(20,3))"
   ]
  },
  {
   "cell_type": "code",
   "execution_count": 60,
   "id": "061d53d4",
   "metadata": {},
   "outputs": [
    {
     "data": {
      "text/plain": [
       "Arches    270\n",
       "Name: name, dtype: int64"
      ]
     },
     "execution_count": 60,
     "metadata": {},
     "output_type": "execute_result"
    }
   ],
   "source": [
    "# get the cohort name for user 313\n",
    "df[df.user_id==313].name.value_counts()"
   ]
  },
  {
   "cell_type": "code",
   "execution_count": 61,
   "id": "44ba6186",
   "metadata": {},
   "outputs": [
    {
     "data": {
      "text/html": [
       "<div>\n",
       "<style scoped>\n",
       "    .dataframe tbody tr th:only-of-type {\n",
       "        vertical-align: middle;\n",
       "    }\n",
       "\n",
       "    .dataframe tbody tr th {\n",
       "        vertical-align: top;\n",
       "    }\n",
       "\n",
       "    .dataframe thead th {\n",
       "        text-align: right;\n",
       "    }\n",
       "</style>\n",
       "<table border=\"1\" class=\"dataframe\">\n",
       "  <thead>\n",
       "    <tr style=\"text-align: right;\">\n",
       "      <th></th>\n",
       "      <th>date</th>\n",
       "      <th>time</th>\n",
       "      <th>endpoint</th>\n",
       "      <th>user_id</th>\n",
       "      <th>cohort_id</th>\n",
       "      <th>ip</th>\n",
       "      <th>name</th>\n",
       "      <th>slack</th>\n",
       "      <th>start_date</th>\n",
       "      <th>end_date</th>\n",
       "      <th>program_id</th>\n",
       "      <th>class</th>\n",
       "      <th>topic</th>\n",
       "      <th>program_type</th>\n",
       "    </tr>\n",
       "    <tr>\n",
       "      <th>datetime</th>\n",
       "      <th></th>\n",
       "      <th></th>\n",
       "      <th></th>\n",
       "      <th></th>\n",
       "      <th></th>\n",
       "      <th></th>\n",
       "      <th></th>\n",
       "      <th></th>\n",
       "      <th></th>\n",
       "      <th></th>\n",
       "      <th></th>\n",
       "      <th></th>\n",
       "      <th></th>\n",
       "      <th></th>\n",
       "    </tr>\n",
       "  </thead>\n",
       "  <tbody>\n",
       "    <tr>\n",
       "      <th>2018-11-30 15:57:01</th>\n",
       "      <td>2018-11-30</td>\n",
       "      <td>15:57:01</td>\n",
       "      <td>/</td>\n",
       "      <td>313</td>\n",
       "      <td>1.0</td>\n",
       "      <td>108.199.117.96</td>\n",
       "      <td>Arches</td>\n",
       "      <td>#arches</td>\n",
       "      <td>2014-02-04</td>\n",
       "      <td>2014-04-22</td>\n",
       "      <td>1.0</td>\n",
       "      <td>0</td>\n",
       "      <td>0</td>\n",
       "      <td>FS_PHP_program</td>\n",
       "    </tr>\n",
       "  </tbody>\n",
       "</table>\n",
       "</div>"
      ],
      "text/plain": [
       "                           date      time endpoint user_id  cohort_id  \\\n",
       "datetime                                                                \n",
       "2018-11-30 15:57:01  2018-11-30  15:57:01        /     313        1.0   \n",
       "\n",
       "                                 ip    name    slack  start_date    end_date  \\\n",
       "datetime                                                                       \n",
       "2018-11-30 15:57:01  108.199.117.96  Arches  #arches  2014-02-04  2014-04-22   \n",
       "\n",
       "                    program_id class topic    program_type  \n",
       "datetime                                                    \n",
       "2018-11-30 15:57:01        1.0     0     0  FS_PHP_program  "
      ]
     },
     "execution_count": 61,
     "metadata": {},
     "output_type": "execute_result"
    }
   ],
   "source": [
    "# get the program date for user 313\n",
    "df[df.user_id==313].head(1)   # access date is 4 years later after graduate"
   ]
  },
  {
   "cell_type": "code",
   "execution_count": 62,
   "id": "ddd0d06c",
   "metadata": {},
   "outputs": [
    {
     "data": {
      "text/plain": [
       "173.173.121.126    215\n",
       "108.199.117.96      50\n",
       "12.31.120.82         5\n",
       "Name: ip, dtype: int64"
      ]
     },
     "execution_count": 62,
     "metadata": {},
     "output_type": "execute_result"
    }
   ],
   "source": [
    "# check the ip\n",
    "df[df.user_id==313].ip.value_counts()  # ip is not from codeup"
   ]
  },
  {
   "cell_type": "code",
   "execution_count": 63,
   "id": "86fc6282",
   "metadata": {},
   "outputs": [
    {
     "data": {
      "text/plain": [
       "313    215\n",
       "Name: user_id, dtype: int64"
      ]
     },
     "execution_count": 63,
     "metadata": {},
     "output_type": "execute_result"
    }
   ],
   "source": [
    "df[df.ip == '173.173.121.126'].user_id.value_counts() # and this ip only match one user"
   ]
  },
  {
   "cell_type": "markdown",
   "id": "38dddb2b",
   "metadata": {},
   "source": [
    "### according to the analysis, user 313 maybe from cohort Arches, did a abnormal (225 pages in one day) web scraping 4 years later after graduated with a non-codeup ip address. Consider as suspicious user.\n",
    "### also 173.173.121.126 ip address only belong to user 313, consider as suspicious ip."
   ]
  },
  {
   "cell_type": "markdown",
   "id": "632a8360",
   "metadata": {},
   "source": [
    "### 3. user 341"
   ]
  },
  {
   "cell_type": "code",
   "execution_count": 64,
   "id": "06331e96",
   "metadata": {},
   "outputs": [
    {
     "data": {
      "text/html": [
       "<div>\n",
       "<style scoped>\n",
       "    .dataframe tbody tr th:only-of-type {\n",
       "        vertical-align: middle;\n",
       "    }\n",
       "\n",
       "    .dataframe tbody tr th {\n",
       "        vertical-align: top;\n",
       "    }\n",
       "\n",
       "    .dataframe thead th {\n",
       "        text-align: right;\n",
       "    }\n",
       "</style>\n",
       "<table border=\"1\" class=\"dataframe\">\n",
       "  <thead>\n",
       "    <tr style=\"text-align: right;\">\n",
       "      <th></th>\n",
       "      <th>pages</th>\n",
       "      <th>midband</th>\n",
       "      <th>ub</th>\n",
       "      <th>lb</th>\n",
       "      <th>pct_b</th>\n",
       "      <th>user_id</th>\n",
       "    </tr>\n",
       "    <tr>\n",
       "      <th>datetime</th>\n",
       "      <th></th>\n",
       "      <th></th>\n",
       "      <th></th>\n",
       "      <th></th>\n",
       "      <th></th>\n",
       "      <th></th>\n",
       "    </tr>\n",
       "  </thead>\n",
       "  <tbody>\n",
       "    <tr>\n",
       "      <th>2019-03-03</th>\n",
       "      <td>272</td>\n",
       "      <td>24.721632</td>\n",
       "      <td>232.200343</td>\n",
       "      <td>-182.757078</td>\n",
       "      <td>1.095913</td>\n",
       "      <td>341</td>\n",
       "    </tr>\n",
       "    <tr>\n",
       "      <th>2020-02-18</th>\n",
       "      <td>3</td>\n",
       "      <td>0.193548</td>\n",
       "      <td>2.442380</td>\n",
       "      <td>-2.055283</td>\n",
       "      <td>1.123980</td>\n",
       "      <td>341</td>\n",
       "    </tr>\n",
       "    <tr>\n",
       "      <th>2020-03-10</th>\n",
       "      <td>4</td>\n",
       "      <td>0.305768</td>\n",
       "      <td>3.479509</td>\n",
       "      <td>-2.867973</td>\n",
       "      <td>1.082000</td>\n",
       "      <td>341</td>\n",
       "    </tr>\n",
       "    <tr>\n",
       "      <th>2020-04-21</th>\n",
       "      <td>109</td>\n",
       "      <td>7.250725</td>\n",
       "      <td>88.818626</td>\n",
       "      <td>-74.317176</td>\n",
       "      <td>1.123709</td>\n",
       "      <td>341</td>\n",
       "    </tr>\n",
       "    <tr>\n",
       "      <th>2020-07-13</th>\n",
       "      <td>52</td>\n",
       "      <td>6.283047</td>\n",
       "      <td>45.711487</td>\n",
       "      <td>-33.145393</td>\n",
       "      <td>1.079746</td>\n",
       "      <td>341</td>\n",
       "    </tr>\n",
       "    <tr>\n",
       "      <th>2020-10-03</th>\n",
       "      <td>11</td>\n",
       "      <td>0.991326</td>\n",
       "      <td>10.107234</td>\n",
       "      <td>-8.124582</td>\n",
       "      <td>1.048967</td>\n",
       "      <td>341</td>\n",
       "    </tr>\n",
       "    <tr>\n",
       "      <th>2020-10-25</th>\n",
       "      <td>10</td>\n",
       "      <td>0.873729</td>\n",
       "      <td>9.489350</td>\n",
       "      <td>-7.741892</td>\n",
       "      <td>1.029635</td>\n",
       "      <td>341</td>\n",
       "    </tr>\n",
       "    <tr>\n",
       "      <th>2021-02-09</th>\n",
       "      <td>10</td>\n",
       "      <td>0.659630</td>\n",
       "      <td>8.244463</td>\n",
       "      <td>-6.925203</td>\n",
       "      <td>1.115727</td>\n",
       "      <td>341</td>\n",
       "    </tr>\n",
       "  </tbody>\n",
       "</table>\n",
       "</div>"
      ],
      "text/plain": [
       "            pages    midband          ub          lb     pct_b  user_id\n",
       "datetime                                                               \n",
       "2019-03-03    272  24.721632  232.200343 -182.757078  1.095913      341\n",
       "2020-02-18      3   0.193548    2.442380   -2.055283  1.123980      341\n",
       "2020-03-10      4   0.305768    3.479509   -2.867973  1.082000      341\n",
       "2020-04-21    109   7.250725   88.818626  -74.317176  1.123709      341\n",
       "2020-07-13     52   6.283047   45.711487  -33.145393  1.079746      341\n",
       "2020-10-03     11   0.991326   10.107234   -8.124582  1.048967      341\n",
       "2020-10-25     10   0.873729    9.489350   -7.741892  1.029635      341\n",
       "2021-02-09     10   0.659630    8.244463   -6.925203  1.115727      341"
      ]
     },
     "execution_count": 64,
     "metadata": {},
     "output_type": "execute_result"
    }
   ],
   "source": [
    "# check all anomalies from user 341\n",
    "anomalies[anomalies.user_id==341]"
   ]
  },
  {
   "cell_type": "code",
   "execution_count": 65,
   "id": "9142557f",
   "metadata": {},
   "outputs": [
    {
     "data": {
      "text/plain": [
       "Zion    1581\n",
       "Name: name, dtype: int64"
      ]
     },
     "execution_count": 65,
     "metadata": {},
     "output_type": "execute_result"
    }
   ],
   "source": [
    "df[df.user_id==341].name.value_counts() # this user id only match one person which is great!"
   ]
  },
  {
   "cell_type": "code",
   "execution_count": 66,
   "id": "4eb360c8",
   "metadata": {},
   "outputs": [
    {
     "data": {
      "text/html": [
       "<div>\n",
       "<style scoped>\n",
       "    .dataframe tbody tr th:only-of-type {\n",
       "        vertical-align: middle;\n",
       "    }\n",
       "\n",
       "    .dataframe tbody tr th {\n",
       "        vertical-align: top;\n",
       "    }\n",
       "\n",
       "    .dataframe thead th {\n",
       "        text-align: right;\n",
       "    }\n",
       "</style>\n",
       "<table border=\"1\" class=\"dataframe\">\n",
       "  <thead>\n",
       "    <tr style=\"text-align: right;\">\n",
       "      <th></th>\n",
       "      <th>date</th>\n",
       "      <th>time</th>\n",
       "      <th>endpoint</th>\n",
       "      <th>user_id</th>\n",
       "      <th>cohort_id</th>\n",
       "      <th>ip</th>\n",
       "      <th>name</th>\n",
       "      <th>slack</th>\n",
       "      <th>start_date</th>\n",
       "      <th>end_date</th>\n",
       "      <th>program_id</th>\n",
       "      <th>class</th>\n",
       "      <th>topic</th>\n",
       "      <th>program_type</th>\n",
       "    </tr>\n",
       "    <tr>\n",
       "      <th>datetime</th>\n",
       "      <th></th>\n",
       "      <th></th>\n",
       "      <th></th>\n",
       "      <th></th>\n",
       "      <th></th>\n",
       "      <th></th>\n",
       "      <th></th>\n",
       "      <th></th>\n",
       "      <th></th>\n",
       "      <th></th>\n",
       "      <th></th>\n",
       "      <th></th>\n",
       "      <th></th>\n",
       "      <th></th>\n",
       "    </tr>\n",
       "  </thead>\n",
       "  <tbody>\n",
       "    <tr>\n",
       "      <th>2019-01-22 15:23:24</th>\n",
       "      <td>2019-01-22</td>\n",
       "      <td>15:23:24</td>\n",
       "      <td>/</td>\n",
       "      <td>341</td>\n",
       "      <td>29.0</td>\n",
       "      <td>97.105.19.58</td>\n",
       "      <td>Zion</td>\n",
       "      <td>#zion</td>\n",
       "      <td>2019-01-22</td>\n",
       "      <td>2019-06-04</td>\n",
       "      <td>2.0</td>\n",
       "      <td>0</td>\n",
       "      <td>0</td>\n",
       "      <td>FS_JAVA_program</td>\n",
       "    </tr>\n",
       "  </tbody>\n",
       "</table>\n",
       "</div>"
      ],
      "text/plain": [
       "                           date      time endpoint user_id  cohort_id  \\\n",
       "datetime                                                                \n",
       "2019-01-22 15:23:24  2019-01-22  15:23:24        /     341       29.0   \n",
       "\n",
       "                               ip  name  slack  start_date    end_date  \\\n",
       "datetime                                                                 \n",
       "2019-01-22 15:23:24  97.105.19.58  Zion  #zion  2019-01-22  2019-06-04   \n",
       "\n",
       "                    program_id class topic     program_type  \n",
       "datetime                                                     \n",
       "2019-01-22 15:23:24        2.0     0     0  FS_JAVA_program  "
      ]
     },
     "execution_count": 66,
     "metadata": {},
     "output_type": "execute_result"
    }
   ],
   "source": [
    "# check the program date\n",
    "df[df.user_id==341].head(1)"
   ]
  },
  {
   "cell_type": "code",
   "execution_count": 67,
   "id": "fb732243",
   "metadata": {},
   "outputs": [
    {
     "data": {
      "text/plain": [
       "204.44.112.76      180\n",
       "173.174.243.231     92\n",
       "Name: ip, dtype: int64"
      ]
     },
     "execution_count": 67,
     "metadata": {},
     "output_type": "execute_result"
    }
   ],
   "source": [
    "# check for ip on date 2019-03-03\n",
    "df[(df.user_id==341) & (df.date == '2019-03-03')].ip.value_counts()"
   ]
  },
  {
   "cell_type": "code",
   "execution_count": 68,
   "id": "84c9542c",
   "metadata": {},
   "outputs": [
    {
     "data": {
      "text/plain": [
       "172.124.70.146    109\n",
       "Name: ip, dtype: int64"
      ]
     },
     "execution_count": 68,
     "metadata": {},
     "output_type": "execute_result"
    }
   ],
   "source": [
    "# check for ip on date 2020-04-21\n",
    "df[(df.user_id==341) & (df.date == '2020-04-21')].ip.value_counts()"
   ]
  },
  {
   "cell_type": "code",
   "execution_count": 69,
   "id": "c2463cf2",
   "metadata": {},
   "outputs": [
    {
     "data": {
      "text/plain": [
       "97.105.19.58       677\n",
       "172.124.70.146     462\n",
       "173.174.243.231    233\n",
       "204.44.112.76      180\n",
       "70.123.203.131      25\n",
       "192.171.117.210      4\n",
       "Name: ip, dtype: int64"
      ]
     },
     "execution_count": 69,
     "metadata": {},
     "output_type": "execute_result"
    }
   ],
   "source": [
    "# check all ip for user 341\n",
    "df[df.user_id==341].ip.value_counts()"
   ]
  },
  {
   "cell_type": "code",
   "execution_count": 70,
   "id": "17af45f2",
   "metadata": {},
   "outputs": [
    {
     "data": {
      "text/plain": [
       "341    180\n",
       "Name: user_id, dtype: int64"
      ]
     },
     "execution_count": 70,
     "metadata": {},
     "output_type": "execute_result"
    }
   ],
   "source": [
    "# who is ip 204.44.112.76 belong?\n",
    "df[df.ip=='204.44.112.76'].user_id.value_counts()"
   ]
  },
  {
   "cell_type": "markdown",
   "id": "00968420",
   "metadata": {},
   "source": [
    "* It seems user 341 did a web-scraping during the class and after graduate.\n",
    "* ip 204.44.112.76 seems like a web-scraping machine."
   ]
  },
  {
   "cell_type": "markdown",
   "id": "48ad3faf",
   "metadata": {},
   "source": [
    "### 4. user 422"
   ]
  },
  {
   "cell_type": "code",
   "execution_count": 71,
   "id": "3415d7c3",
   "metadata": {},
   "outputs": [
    {
     "data": {
      "text/html": [
       "<div>\n",
       "<style scoped>\n",
       "    .dataframe tbody tr th:only-of-type {\n",
       "        vertical-align: middle;\n",
       "    }\n",
       "\n",
       "    .dataframe tbody tr th {\n",
       "        vertical-align: top;\n",
       "    }\n",
       "\n",
       "    .dataframe thead th {\n",
       "        text-align: right;\n",
       "    }\n",
       "</style>\n",
       "<table border=\"1\" class=\"dataframe\">\n",
       "  <thead>\n",
       "    <tr style=\"text-align: right;\">\n",
       "      <th></th>\n",
       "      <th>pages</th>\n",
       "      <th>midband</th>\n",
       "      <th>ub</th>\n",
       "      <th>lb</th>\n",
       "      <th>pct_b</th>\n",
       "      <th>user_id</th>\n",
       "    </tr>\n",
       "    <tr>\n",
       "      <th>datetime</th>\n",
       "      <th></th>\n",
       "      <th></th>\n",
       "      <th></th>\n",
       "      <th></th>\n",
       "      <th></th>\n",
       "      <th></th>\n",
       "    </tr>\n",
       "  </thead>\n",
       "  <tbody>\n",
       "    <tr>\n",
       "      <th>2019-07-25</th>\n",
       "      <td>253</td>\n",
       "      <td>34.698961</td>\n",
       "      <td>222.709718</td>\n",
       "      <td>-153.311796</td>\n",
       "      <td>1.080555</td>\n",
       "      <td>422</td>\n",
       "    </tr>\n",
       "  </tbody>\n",
       "</table>\n",
       "</div>"
      ],
      "text/plain": [
       "            pages    midband          ub          lb     pct_b  user_id\n",
       "datetime                                                               \n",
       "2019-07-25    253  34.698961  222.709718 -153.311796  1.080555      422"
      ]
     },
     "execution_count": 71,
     "metadata": {},
     "output_type": "execute_result"
    }
   ],
   "source": [
    "# check all anomalies from user 422\n",
    "anomalies[anomalies.user_id==422]"
   ]
  },
  {
   "cell_type": "code",
   "execution_count": 72,
   "id": "69e4e733",
   "metadata": {},
   "outputs": [
    {
     "data": {
      "text/plain": [
       "Betelgeuse    1096\n",
       "Name: name, dtype: int64"
      ]
     },
     "execution_count": 72,
     "metadata": {},
     "output_type": "execute_result"
    }
   ],
   "source": [
    "df[df.user_id==422].name.value_counts() # this user id only match one person"
   ]
  },
  {
   "cell_type": "code",
   "execution_count": 73,
   "id": "1b53a44c",
   "metadata": {},
   "outputs": [
    {
     "data": {
      "text/html": [
       "<div>\n",
       "<style scoped>\n",
       "    .dataframe tbody tr th:only-of-type {\n",
       "        vertical-align: middle;\n",
       "    }\n",
       "\n",
       "    .dataframe tbody tr th {\n",
       "        vertical-align: top;\n",
       "    }\n",
       "\n",
       "    .dataframe thead th {\n",
       "        text-align: right;\n",
       "    }\n",
       "</style>\n",
       "<table border=\"1\" class=\"dataframe\">\n",
       "  <thead>\n",
       "    <tr style=\"text-align: right;\">\n",
       "      <th></th>\n",
       "      <th>date</th>\n",
       "      <th>time</th>\n",
       "      <th>endpoint</th>\n",
       "      <th>user_id</th>\n",
       "      <th>cohort_id</th>\n",
       "      <th>ip</th>\n",
       "      <th>name</th>\n",
       "      <th>slack</th>\n",
       "      <th>start_date</th>\n",
       "      <th>end_date</th>\n",
       "      <th>program_id</th>\n",
       "      <th>class</th>\n",
       "      <th>topic</th>\n",
       "      <th>program_type</th>\n",
       "    </tr>\n",
       "    <tr>\n",
       "      <th>datetime</th>\n",
       "      <th></th>\n",
       "      <th></th>\n",
       "      <th></th>\n",
       "      <th></th>\n",
       "      <th></th>\n",
       "      <th></th>\n",
       "      <th></th>\n",
       "      <th></th>\n",
       "      <th></th>\n",
       "      <th></th>\n",
       "      <th></th>\n",
       "      <th></th>\n",
       "      <th></th>\n",
       "      <th></th>\n",
       "    </tr>\n",
       "  </thead>\n",
       "  <tbody>\n",
       "    <tr>\n",
       "      <th>2019-05-29 10:08:20</th>\n",
       "      <td>2019-05-29</td>\n",
       "      <td>10:08:20</td>\n",
       "      <td>/</td>\n",
       "      <td>422</td>\n",
       "      <td>32.0</td>\n",
       "      <td>97.105.19.58</td>\n",
       "      <td>Betelgeuse</td>\n",
       "      <td>#betelgeuse</td>\n",
       "      <td>2019-05-28</td>\n",
       "      <td>2019-10-08</td>\n",
       "      <td>2.0</td>\n",
       "      <td>0</td>\n",
       "      <td>0</td>\n",
       "      <td>FS_JAVA_program</td>\n",
       "    </tr>\n",
       "  </tbody>\n",
       "</table>\n",
       "</div>"
      ],
      "text/plain": [
       "                           date      time endpoint user_id  cohort_id  \\\n",
       "datetime                                                                \n",
       "2019-05-29 10:08:20  2019-05-29  10:08:20        /     422       32.0   \n",
       "\n",
       "                               ip        name        slack  start_date  \\\n",
       "datetime                                                                 \n",
       "2019-05-29 10:08:20  97.105.19.58  Betelgeuse  #betelgeuse  2019-05-28   \n",
       "\n",
       "                       end_date program_id class topic     program_type  \n",
       "datetime                                                                 \n",
       "2019-05-29 10:08:20  2019-10-08        2.0     0     0  FS_JAVA_program  "
      ]
     },
     "execution_count": 73,
     "metadata": {},
     "output_type": "execute_result"
    }
   ],
   "source": [
    "df[df.user_id == 422].head(1) # check the program date"
   ]
  },
  {
   "cell_type": "code",
   "execution_count": 74,
   "id": "64fa18ab",
   "metadata": {},
   "outputs": [
    {
     "data": {
      "text/plain": [
       "<AxesSubplot:xlabel='datetime'>"
      ]
     },
     "execution_count": 74,
     "metadata": {},
     "output_type": "execute_result"
    },
    {
     "data": {
      "image/png": "[encoded data removed]",
      "text/plain": [
       "<Figure size 1440x216 with 1 Axes>"
      ]
     },
     "metadata": {
      "needs_background": "light"
     },
     "output_type": "display_data"
    }
   ],
   "source": [
    "# chart for 422 pages accessed\n",
    "prep(df, 422).plot(figsize=(20,3))"
   ]
  },
  {
   "cell_type": "code",
   "execution_count": 75,
   "id": "bf56bdb0",
   "metadata": {},
   "outputs": [
    {
     "data": {
      "text/plain": [
       "97.105.19.58    253\n",
       "Name: ip, dtype: int64"
      ]
     },
     "execution_count": 75,
     "metadata": {},
     "output_type": "execute_result"
    }
   ],
   "source": [
    "df[(df.user_id==422) & (df.date == '2019-07-25')].ip.value_counts() # check ip for 2019-07-25"
   ]
  },
  {
   "cell_type": "markdown",
   "id": "24cb284b",
   "metadata": {},
   "source": [
    "* web scraping by codeup student in codeup facility during class."
   ]
  },
  {
   "cell_type": "markdown",
   "id": "17e9cb29",
   "metadata": {},
   "source": [
    "### 5. user 570"
   ]
  },
  {
   "cell_type": "code",
   "execution_count": 76,
   "id": "6ae345c5",
   "metadata": {},
   "outputs": [
    {
     "data": {
      "text/html": [
       "<div>\n",
       "<style scoped>\n",
       "    .dataframe tbody tr th:only-of-type {\n",
       "        vertical-align: middle;\n",
       "    }\n",
       "\n",
       "    .dataframe tbody tr th {\n",
       "        vertical-align: top;\n",
       "    }\n",
       "\n",
       "    .dataframe thead th {\n",
       "        text-align: right;\n",
       "    }\n",
       "</style>\n",
       "<table border=\"1\" class=\"dataframe\">\n",
       "  <thead>\n",
       "    <tr style=\"text-align: right;\">\n",
       "      <th></th>\n",
       "      <th>pages</th>\n",
       "      <th>midband</th>\n",
       "      <th>ub</th>\n",
       "      <th>lb</th>\n",
       "      <th>pct_b</th>\n",
       "      <th>user_id</th>\n",
       "    </tr>\n",
       "    <tr>\n",
       "      <th>datetime</th>\n",
       "      <th></th>\n",
       "      <th></th>\n",
       "      <th></th>\n",
       "      <th></th>\n",
       "      <th></th>\n",
       "      <th></th>\n",
       "    </tr>\n",
       "  </thead>\n",
       "  <tbody>\n",
       "    <tr>\n",
       "      <th>2020-04-05</th>\n",
       "      <td>232</td>\n",
       "      <td>32.133967</td>\n",
       "      <td>205.731770</td>\n",
       "      <td>-141.463837</td>\n",
       "      <td>1.075658</td>\n",
       "      <td>570</td>\n",
       "    </tr>\n",
       "    <tr>\n",
       "      <th>2020-04-16</th>\n",
       "      <td>271</td>\n",
       "      <td>44.194413</td>\n",
       "      <td>267.834945</td>\n",
       "      <td>-179.446120</td>\n",
       "      <td>1.007076</td>\n",
       "      <td>570</td>\n",
       "    </tr>\n",
       "    <tr>\n",
       "      <th>2020-08-10</th>\n",
       "      <td>66</td>\n",
       "      <td>7.040462</td>\n",
       "      <td>60.216039</td>\n",
       "      <td>-46.135116</td>\n",
       "      <td>1.054385</td>\n",
       "      <td>570</td>\n",
       "    </tr>\n",
       "    <tr>\n",
       "      <th>2021-02-08</th>\n",
       "      <td>3</td>\n",
       "      <td>0.195577</td>\n",
       "      <td>2.464699</td>\n",
       "      <td>-2.073546</td>\n",
       "      <td>1.117953</td>\n",
       "      <td>570</td>\n",
       "    </tr>\n",
       "    <tr>\n",
       "      <th>2021-02-11</th>\n",
       "      <td>53</td>\n",
       "      <td>3.579468</td>\n",
       "      <td>43.234126</td>\n",
       "      <td>-36.075191</td>\n",
       "      <td>1.123137</td>\n",
       "      <td>570</td>\n",
       "    </tr>\n",
       "  </tbody>\n",
       "</table>\n",
       "</div>"
      ],
      "text/plain": [
       "            pages    midband          ub          lb     pct_b  user_id\n",
       "datetime                                                               \n",
       "2020-04-05    232  32.133967  205.731770 -141.463837  1.075658      570\n",
       "2020-04-16    271  44.194413  267.834945 -179.446120  1.007076      570\n",
       "2020-08-10     66   7.040462   60.216039  -46.135116  1.054385      570\n",
       "2021-02-08      3   0.195577    2.464699   -2.073546  1.117953      570\n",
       "2021-02-11     53   3.579468   43.234126  -36.075191  1.123137      570"
      ]
     },
     "execution_count": 76,
     "metadata": {},
     "output_type": "execute_result"
    }
   ],
   "source": [
    "# check all anomalies from user 570\n",
    "anomalies[anomalies.user_id==570]"
   ]
  },
  {
   "cell_type": "code",
   "execution_count": 77,
   "id": "03e0c7ef",
   "metadata": {},
   "outputs": [
    {
     "data": {
      "text/plain": [
       "Fortuna    4584\n",
       "Name: name, dtype: int64"
      ]
     },
     "execution_count": 77,
     "metadata": {},
     "output_type": "execute_result"
    }
   ],
   "source": [
    "df[df.user_id==570].name.value_counts() # this user id only match one person"
   ]
  },
  {
   "cell_type": "code",
   "execution_count": 78,
   "id": "c926d4b5",
   "metadata": {},
   "outputs": [
    {
     "data": {
      "text/plain": [
       "172.124.67.93    223\n",
       "45.132.226.7      48\n",
       "Name: ip, dtype: int64"
      ]
     },
     "execution_count": 78,
     "metadata": {},
     "output_type": "execute_result"
    }
   ],
   "source": [
    "df[(df.user_id==570) & (df.date == '2020-04-16')].ip.value_counts()  # check ip"
   ]
  },
  {
   "cell_type": "code",
   "execution_count": 79,
   "id": "1aadde44",
   "metadata": {},
   "outputs": [
    {
     "data": {
      "text/plain": [
       "172.124.67.93    232\n",
       "Name: ip, dtype: int64"
      ]
     },
     "execution_count": 79,
     "metadata": {},
     "output_type": "execute_result"
    }
   ],
   "source": [
    "df[(df.user_id==570) & (df.date == '2020-04-05')].ip.value_counts()  # check ip"
   ]
  },
  {
   "cell_type": "code",
   "execution_count": 80,
   "id": "422acd23",
   "metadata": {},
   "outputs": [
    {
     "data": {
      "text/plain": [
       "172.124.67.93    2530\n",
       "97.105.19.58      784\n",
       "67.10.164.55      244\n",
       "104.238.45.6      186\n",
       "70.123.202.50     101\n",
       "Name: ip, dtype: int64"
      ]
     },
     "execution_count": 80,
     "metadata": {},
     "output_type": "execute_result"
    }
   ],
   "source": [
    "df[df.user_id == 570].ip.value_counts().head()  # check all ip from user 570"
   ]
  },
  {
   "cell_type": "code",
   "execution_count": 81,
   "id": "e5ada162",
   "metadata": {},
   "outputs": [
    {
     "data": {
      "text/html": [
       "<div>\n",
       "<style scoped>\n",
       "    .dataframe tbody tr th:only-of-type {\n",
       "        vertical-align: middle;\n",
       "    }\n",
       "\n",
       "    .dataframe tbody tr th {\n",
       "        vertical-align: top;\n",
       "    }\n",
       "\n",
       "    .dataframe thead th {\n",
       "        text-align: right;\n",
       "    }\n",
       "</style>\n",
       "<table border=\"1\" class=\"dataframe\">\n",
       "  <thead>\n",
       "    <tr style=\"text-align: right;\">\n",
       "      <th></th>\n",
       "      <th>date</th>\n",
       "      <th>time</th>\n",
       "      <th>endpoint</th>\n",
       "      <th>user_id</th>\n",
       "      <th>cohort_id</th>\n",
       "      <th>ip</th>\n",
       "      <th>name</th>\n",
       "      <th>slack</th>\n",
       "      <th>start_date</th>\n",
       "      <th>end_date</th>\n",
       "      <th>program_id</th>\n",
       "      <th>class</th>\n",
       "      <th>topic</th>\n",
       "      <th>program_type</th>\n",
       "    </tr>\n",
       "    <tr>\n",
       "      <th>datetime</th>\n",
       "      <th></th>\n",
       "      <th></th>\n",
       "      <th></th>\n",
       "      <th></th>\n",
       "      <th></th>\n",
       "      <th></th>\n",
       "      <th></th>\n",
       "      <th></th>\n",
       "      <th></th>\n",
       "      <th></th>\n",
       "      <th></th>\n",
       "      <th></th>\n",
       "      <th></th>\n",
       "      <th></th>\n",
       "    </tr>\n",
       "  </thead>\n",
       "  <tbody>\n",
       "    <tr>\n",
       "      <th>2020-01-13 16:02:26</th>\n",
       "      <td>2020-01-13</td>\n",
       "      <td>16:02:26</td>\n",
       "      <td>/</td>\n",
       "      <td>570</td>\n",
       "      <td>53.0</td>\n",
       "      <td>97.105.19.58</td>\n",
       "      <td>Fortuna</td>\n",
       "      <td>#fortuna</td>\n",
       "      <td>2020-01-13</td>\n",
       "      <td>2020-06-23</td>\n",
       "      <td>2.0</td>\n",
       "      <td>0</td>\n",
       "      <td>0</td>\n",
       "      <td>FS_JAVA_program</td>\n",
       "    </tr>\n",
       "  </tbody>\n",
       "</table>\n",
       "</div>"
      ],
      "text/plain": [
       "                           date      time endpoint user_id  cohort_id  \\\n",
       "datetime                                                                \n",
       "2020-01-13 16:02:26  2020-01-13  16:02:26        /     570       53.0   \n",
       "\n",
       "                               ip     name     slack  start_date    end_date  \\\n",
       "datetime                                                                       \n",
       "2020-01-13 16:02:26  97.105.19.58  Fortuna  #fortuna  2020-01-13  2020-06-23   \n",
       "\n",
       "                    program_id class topic     program_type  \n",
       "datetime                                                     \n",
       "2020-01-13 16:02:26        2.0     0     0  FS_JAVA_program  "
      ]
     },
     "execution_count": 81,
     "metadata": {},
     "output_type": "execute_result"
    }
   ],
   "source": [
    "df[df.user_id == 570].head(1)  # check program date"
   ]
  },
  {
   "cell_type": "code",
   "execution_count": 82,
   "id": "a51c84e0",
   "metadata": {},
   "outputs": [
    {
     "data": {
      "text/plain": [
       "<AxesSubplot:xlabel='datetime'>"
      ]
     },
     "execution_count": 82,
     "metadata": {},
     "output_type": "execute_result"
    },
    {
     "data": {
      "image/png": "[encoded data removed]",
      "text/plain": [
       "<Figure size 1440x216 with 1 Axes>"
      ]
     },
     "metadata": {
      "needs_background": "light"
     },
     "output_type": "display_data"
    }
   ],
   "source": [
    "# chart for user 570 pages accessed\n",
    "prep(df, 570).plot(figsize=(20,3))"
   ]
  },
  {
   "cell_type": "markdown",
   "id": "9bba566e",
   "metadata": {},
   "source": [
    "* web scraping by codeup student during class."
   ]
  },
  {
   "cell_type": "markdown",
   "id": "3bf41722",
   "metadata": {},
   "source": [
    "### Strangers detection --- explor the null data"
   ]
  },
  {
   "cell_type": "code",
   "execution_count": 83,
   "id": "0167bc67",
   "metadata": {},
   "outputs": [
    {
     "data": {
      "text/plain": [
       "(52893, 14)"
      ]
     },
     "execution_count": 83,
     "metadata": {},
     "output_type": "execute_result"
    }
   ],
   "source": [
    "# get all the null value from main database\n",
    "df_null = df[df.cohort_id.isnull()]\n",
    "df_null.shape"
   ]
  },
  {
   "cell_type": "code",
   "execution_count": 84,
   "id": "cc58b106",
   "metadata": {},
   "outputs": [],
   "source": [
    "# user Bollinger Bands method, span = 30, K = 3\n",
    "span = 30\n",
    "weight = 3\n",
    "\n",
    "anomalies_null = pd.DataFrame()\n",
    "for u in list(df.user_id.unique()):\n",
    "    user_df = find_anomalies(df_null, u, span, weight)\n",
    "    anomalies_null = pd.concat([anomalies_null, user_df], axis=0)"
   ]
  },
  {
   "cell_type": "code",
   "execution_count": 85,
   "id": "0dba130e",
   "metadata": {},
   "outputs": [
    {
     "data": {
      "text/html": [
       "<div>\n",
       "<style scoped>\n",
       "    .dataframe tbody tr th:only-of-type {\n",
       "        vertical-align: middle;\n",
       "    }\n",
       "\n",
       "    .dataframe tbody tr th {\n",
       "        vertical-align: top;\n",
       "    }\n",
       "\n",
       "    .dataframe thead th {\n",
       "        text-align: right;\n",
       "    }\n",
       "</style>\n",
       "<table border=\"1\" class=\"dataframe\">\n",
       "  <thead>\n",
       "    <tr style=\"text-align: right;\">\n",
       "      <th></th>\n",
       "      <th>pages</th>\n",
       "      <th>midband</th>\n",
       "      <th>ub</th>\n",
       "      <th>lb</th>\n",
       "      <th>pct_b</th>\n",
       "      <th>user_id</th>\n",
       "    </tr>\n",
       "    <tr>\n",
       "      <th>datetime</th>\n",
       "      <th></th>\n",
       "      <th></th>\n",
       "      <th></th>\n",
       "      <th></th>\n",
       "      <th></th>\n",
       "      <th></th>\n",
       "    </tr>\n",
       "  </thead>\n",
       "  <tbody>\n",
       "    <tr>\n",
       "      <th>2018-06-24</th>\n",
       "      <td>158</td>\n",
       "      <td>16.516319</td>\n",
       "      <td>142.413376</td>\n",
       "      <td>-109.380738</td>\n",
       "      <td>1.061902</td>\n",
       "      <td>111</td>\n",
       "    </tr>\n",
       "    <tr>\n",
       "      <th>2019-03-27</th>\n",
       "      <td>184</td>\n",
       "      <td>26.524183</td>\n",
       "      <td>162.499722</td>\n",
       "      <td>-109.451357</td>\n",
       "      <td>1.079059</td>\n",
       "      <td>354</td>\n",
       "    </tr>\n",
       "    <tr>\n",
       "      <th>2019-05-30</th>\n",
       "      <td>130</td>\n",
       "      <td>24.252047</td>\n",
       "      <td>122.492668</td>\n",
       "      <td>-73.988574</td>\n",
       "      <td>1.038209</td>\n",
       "      <td>354</td>\n",
       "    </tr>\n",
       "  </tbody>\n",
       "</table>\n",
       "</div>"
      ],
      "text/plain": [
       "            pages    midband          ub          lb     pct_b  user_id\n",
       "datetime                                                               \n",
       "2018-06-24    158  16.516319  142.413376 -109.380738  1.061902      111\n",
       "2019-03-27    184  26.524183  162.499722 -109.451357  1.079059      354\n",
       "2019-05-30    130  24.252047  122.492668  -73.988574  1.038209      354"
      ]
     },
     "execution_count": 85,
     "metadata": {},
     "output_type": "execute_result"
    }
   ],
   "source": [
    "# investgate any user id accessed over 100 pages per day.\n",
    "anomalies_null[anomalies_null.pages > 100]"
   ]
  },
  {
   "cell_type": "markdown",
   "id": "9f7c91b4",
   "metadata": {},
   "source": [
    "### user 111"
   ]
  },
  {
   "cell_type": "code",
   "execution_count": 86,
   "id": "aac15bcd",
   "metadata": {},
   "outputs": [
    {
     "data": {
      "text/plain": [
       "<AxesSubplot:xlabel='datetime'>"
      ]
     },
     "execution_count": 86,
     "metadata": {},
     "output_type": "execute_result"
    },
    {
     "data": {
      "image/png": "[encoded data removed]",
      "text/plain": [
       "<Figure size 1440x216 with 1 Axes>"
      ]
     },
     "metadata": {
      "needs_background": "light"
     },
     "output_type": "display_data"
    }
   ],
   "source": [
    "# pages accessed chart for user 111\n",
    "prep(df_null, 111).plot(figsize=(20,3))"
   ]
  },
  {
   "cell_type": "code",
   "execution_count": 87,
   "id": "416bd8e9",
   "metadata": {},
   "outputs": [
    {
     "data": {
      "text/plain": [
       "Series([], Name: name, dtype: int64)"
      ]
     },
     "execution_count": 87,
     "metadata": {},
     "output_type": "execute_result"
    }
   ],
   "source": [
    "# check the name for user 111\n",
    "df[df.user_id == 111].name.value_counts().head()"
   ]
  },
  {
   "cell_type": "code",
   "execution_count": 88,
   "id": "0b298ed5",
   "metadata": {},
   "outputs": [
    {
     "data": {
      "text/plain": [
       "67.11.134.242     405\n",
       "70.117.6.133      182\n",
       "70.123.203.131     28\n",
       "172.58.99.200      14\n",
       "71.42.116.142      12\n",
       "Name: ip, dtype: int64"
      ]
     },
     "execution_count": 88,
     "metadata": {},
     "output_type": "execute_result"
    }
   ],
   "source": [
    "df[df.user_id == 111].ip.value_counts().head() # not in codeup"
   ]
  },
  {
   "cell_type": "code",
   "execution_count": 89,
   "id": "fe89c8db",
   "metadata": {},
   "outputs": [
    {
     "data": {
      "text/plain": [
       "67.11.134.242    158\n",
       "Name: ip, dtype: int64"
      ]
     },
     "execution_count": 89,
     "metadata": {},
     "output_type": "execute_result"
    }
   ],
   "source": [
    "df[(df.user_id == 111) & (df.date == '2018-06-24')].ip.value_counts() # check ip on 2018-06-24"
   ]
  },
  {
   "cell_type": "code",
   "execution_count": 90,
   "id": "876247ec",
   "metadata": {},
   "outputs": [
    {
     "data": {
      "text/plain": [
       "111    405\n",
       "Name: user_id, dtype: int64"
      ]
     },
     "execution_count": 90,
     "metadata": {},
     "output_type": "execute_result"
    }
   ],
   "source": [
    "# check the user id with the abnormal ip\n",
    "df[df.ip == '67.11.134.242'].user_id.value_counts()"
   ]
  },
  {
   "cell_type": "markdown",
   "id": "18649c24",
   "metadata": {},
   "source": [
    "### can't identity user 111 and ip 67.11.134.242, consider as suspicous!"
   ]
  },
  {
   "cell_type": "markdown",
   "id": "e92c1e3c",
   "metadata": {},
   "source": [
    "### user 354"
   ]
  },
  {
   "cell_type": "code",
   "execution_count": 92,
   "id": "a239668e",
   "metadata": {},
   "outputs": [
    {
     "data": {
      "text/plain": [
       "Series([], Name: name, dtype: int64)"
      ]
     },
     "execution_count": 92,
     "metadata": {},
     "output_type": "execute_result"
    }
   ],
   "source": [
    "# check the name for user 354 in whole data\n",
    "df[df.user_id == 354].name.value_counts().head()"
   ]
  },
  {
   "cell_type": "code",
   "execution_count": 93,
   "id": "1728469a",
   "metadata": {},
   "outputs": [
    {
     "data": {
      "text/plain": [
       "<AxesSubplot:xlabel='datetime'>"
      ]
     },
     "execution_count": 93,
     "metadata": {},
     "output_type": "execute_result"
    },
    {
     "data": {
      "image/png": "[encoded data removed]",
      "text/plain": [
       "<Figure size 1440x216 with 1 Axes>"
      ]
     },
     "metadata": {
      "needs_background": "light"
     },
     "output_type": "display_data"
    }
   ],
   "source": [
    "# pages accessed number for user 354\n",
    "prep(df_null, 354).plot(figsize=(20,3))"
   ]
  },
  {
   "cell_type": "code",
   "execution_count": 94,
   "id": "ffc61d73",
   "metadata": {},
   "outputs": [
    {
     "data": {
      "text/plain": [
       "45.23.250.16    105\n",
       "97.105.19.58     79\n",
       "Name: ip, dtype: int64"
      ]
     },
     "execution_count": 94,
     "metadata": {},
     "output_type": "execute_result"
    }
   ],
   "source": [
    "# check the ip for the abnormal date 2019-03-27\n",
    "df[(df.user_id == 354) & (df.date == '2019-03-27')].ip.value_counts()"
   ]
  },
  {
   "cell_type": "code",
   "execution_count": 95,
   "id": "9cfcd26c",
   "metadata": {},
   "outputs": [
    {
     "data": {
      "text/plain": [
       "97.105.19.58    126\n",
       "45.23.250.16      4\n",
       "Name: ip, dtype: int64"
      ]
     },
     "execution_count": 95,
     "metadata": {},
     "output_type": "execute_result"
    }
   ],
   "source": [
    "# check the ip for the abnormal date 2019-05-30\n",
    "df[(df.user_id == 354) & (df.date == '2019-05-30')].ip.value_counts()"
   ]
  },
  {
   "cell_type": "code",
   "execution_count": 96,
   "id": "a4b195bf",
   "metadata": {},
   "outputs": [
    {
     "data": {
      "text/plain": [
       "354    741\n",
       "Name: user_id, dtype: int64"
      ]
     },
     "execution_count": 96,
     "metadata": {},
     "output_type": "execute_result"
    }
   ],
   "source": [
    "# check the non-codep ip to see if this ip match to other users\n",
    "df[df.ip == '45.23.250.16'].user_id.value_counts()"
   ]
  },
  {
   "cell_type": "markdown",
   "id": "569ca680",
   "metadata": {},
   "source": [
    "* 97.105.19.58 is codeup ip address.\n",
    "* Maybe user 354 used to work or a student in codeup and still have access to the curriculum. Need to clean user 354 out."
   ]
  },
  {
   "cell_type": "markdown",
   "id": "720f3021",
   "metadata": {},
   "source": [
    "### Q4 Answer:\n",
    "\n",
    "1. User 313 with ip 173.173.121.126 : web-scarping 225 pages/day 4 years after leaving codeup. \n",
    "2. Ip 204.44.112.76 : consider as web-scraping machine.\n",
    "3. User 111 with ip 67.11.134.242 : can not identify any information.\n",
    "4. User 354 : need to be cleaned out from the system.\n"
   ]
  },
  {
   "cell_type": "code",
   "execution_count": null,
   "id": "8b9f30e8",
   "metadata": {},
   "outputs": [],
   "source": []
  },
  {
   "cell_type": "code",
   "execution_count": null,
   "id": "b31dd4f7",
   "metadata": {},
   "outputs": [],
   "source": []
  }
 ],
 "metadata": {
  "kernelspec": {
   "display_name": "Python 3 (ipykernel)",
   "language": "python",
   "name": "python3"
  },
  "language_info": {
   "codemirror_mode": {
    "name": "ipython",
    "version": 3
   },
   "file_extension": ".py",
   "mimetype": "text/x-python",
   "name": "python",
   "nbconvert_exporter": "python",
   "pygments_lexer": "ipython3",
   "version": "3.9.12"
  }
 },
 "nbformat": 4,
 "nbformat_minor": 5
}
