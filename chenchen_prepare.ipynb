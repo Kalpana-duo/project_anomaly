{
 "cells": [
  {
   "cell_type": "code",
   "execution_count": null,
   "id": "164a0a25",
   "metadata": {},
   "outputs": [],
   "source": [
    "def clean_lesson(df):\n",
    "    \n",
    "    df['class'] = np.where(df['class'] == '1-fundamentals', 'fundamentals', df['class'])\n",
    "    df['class'] = np.where(df['class'] == '2-storytelling', 'storytelling', df['class'])\n",
    "    df['class'] = np.where(df['class'] == '3-sql', 'sql', df['class'])\n",
    "    df['class'] = np.where(df['class'] == '4-python', 'python', df['class'])\n",
    "    df['class'] = np.where(df['class'] == '5-stats', 'stats', df['class'])\n",
    "    df['class'] = np.where(df['class'] == '6-regression', 'regression', df['class'])\n",
    "    df['class'] = np.where(df['class'] == '7-classification', 'classification', df['class'])\n",
    "    df['class'] = np.where(df['class'] == '8-clustering', 'clustering', df['class'])\n",
    "    df['class'] = np.where(df['class'] == '9-timeseries', 'timeseries', df['class'])\n",
    "    df['class'] = np.where(df['class'] == '10-anomaly-detection', 'anomaly-detection', df['class'])\n",
    "    df['class'] = np.where(df['class'] == '11-nlp', 'nlp', df['class'])\n",
    "    df['class'] = np.where(df['class'] == '12-distributed-ml', 'distributed-ml', df['class'])\n",
    "    df['class'] = np.where(df['class'] == '13-advanced-topics', 'advanced-topics', df['class'])\n",
    "    df['class'] = np.where(df['class'] == 'Intro_to_Regression_Module', 'regression', df['class'])\n",
    "    df['class'] = np.where(df['class'] == '3.0-mysql-overview', 'mysql', df['class'])\n",
    "    df['class'] = np.where(df['class'] == 'Regression_Python', 'regression', df['class'])\n",
    "    df['class'] = np.where(df['class'] == '1._Fundamentals', 'Fundamentals', df['class'])\n",
    "    df['class'] = np.where(df['class'] == '4.6.3_introduction_to_pandas', 'pandas', df['class'])\n",
    "    df['class'] = np.where(df['class'] == '3.0-mysql-overview', 'mysql', df['class'])\n",
    "    df['class'] = np.where(df['class'] == '5-regression', 'regression', df['class'])\n",
    "    df['class'] = np.where(df['class'] == '3.1-mysql-introduction', 'mysql', df['class'])\n",
    "    df['class'] = np.where(df['class'] == 'Regression_Project', 'regression', df['class'])\n",
    "    df['class'] = np.where(df['class'] == '6-classification', 'classification', df['class'])\n",
    "    \n",
    "    return df"
   ]
  }
 ],
 "metadata": {
  "kernelspec": {
   "display_name": "Python 3 (ipykernel)",
   "language": "python",
   "name": "python3"
  },
  "language_info": {
   "codemirror_mode": {
    "name": "ipython",
    "version": 3
   },
   "file_extension": ".py",
   "mimetype": "text/x-python",
   "name": "python",
   "nbconvert_exporter": "python",
   "pygments_lexer": "ipython3",
   "version": "3.9.12"
  }
 },
 "nbformat": 4,
 "nbformat_minor": 5
}
