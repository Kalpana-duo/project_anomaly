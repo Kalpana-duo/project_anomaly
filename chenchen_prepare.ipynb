{
 "cells": [
  {
   "cell_type": "code",
   "execution_count": null,
   "id": "164a0a25",
   "metadata": {},
   "outputs": [],
   "source": [
    "def clean_lesson(df):\n",
    "    \n",
    "    # Data Science program cleas clean up\n",
    "    df['class'] = np.where((df['class'] == 'fundamentals') & (df.program_type == 'DS_program'), 'ds-fundamentals', df['class'])\n",
    "    df['class'] = np.where((df['class'] == '1-fundamentals') & (df.program_type == 'DS_program'), 'ds-fundamentals', df['class'])\n",
    "    df['class'] = np.where((df['class'] == 'storytelling') & (df.program_type == 'DS_program'), 'ds-storytelling', df['class'])\n",
    "    df['class'] = np.where((df['class'] == '2-storytelling') & (df.program_type == 'DS_program'), 'ds-storytelling', df['class'])\n",
    "    df['class'] = np.where((df['class'] == 'sql') & (df.program_type == 'DS_program'), 'ds-sql', df['class'])\n",
    "    df['class'] = np.where((df['class'] == '3-sql') & (df.program_type == 'DS_program'), 'ds-sql', df['class'])\n",
    "    df['class'] = np.where((df['class'] == 'python') & (df.program_type == 'DS_program'), 'ds-python', df['class'])\n",
    "    df['class'] = np.where((df['class'] == '4-python') & (df.program_type == 'DS_program'), 'ds-python', df['class'])\n",
    "    df['class'] = np.where((df['class'] == 'stats') & (df.program_type == 'DS_program'), 'ds-stats', df['class'])\n",
    "    df['class'] = np.where((df['class'] == '5-stats') & (df.program_type == 'DS_program'), 'ds-stats', df['class'])\n",
    "    df['class'] = np.where((df['class'] == '6-regression') & (df.program_type == 'DS_program'), 'ds-regression', df['class'])\n",
    "    df['class'] = np.where((df['class'] == 'regression') & (df.program_type == 'DS_program'), 'ds-regression', df['class'])\n",
    "    df['class'] = np.where((df['class'] == 'classification') & (df.program_type == 'DS_program'), 'ds-classification', df['class'])\n",
    "    df['class'] = np.where((df['class'] == '7-classification') & (df.program_type == 'DS_program'), 'ds-classification', df['class'])\n",
    "    df['class'] = np.where((df['class'] == 'clustering') & (df.program_type == 'DS_program'), 'ds-clustering', df['class'])\n",
    "    df['class'] = np.where((df['class'] == '8-clustering') & (df.program_type == 'DS_program'), 'ds-clustering', df['class'])\n",
    "    df['class'] = np.where((df['class'] == 'timeseries') & (df.program_type == 'DS_program'), 'ds-timeseries', df['class'])\n",
    "    df['class'] = np.where((df['class'] == '9-timeseries') & (df.program_type == 'DS_program'), 'ds-timeseries', df['class'])\n",
    "    df['class'] = np.where((df['class'] == 'anomaly-detection') & (df.program_type == 'DS_program'), 'ds-anomaly-detection', df['class'])\n",
    "    df['class'] = np.where((df['class'] == '10-anomaly-detection') & (df.program_type == 'DS_program'), 'ds-anomaly-detection', df['class'])\n",
    "    df['class'] = np.where((df['class'] == 'nlp') & (df.program_type == 'DS_program'), 'ds-nlp', df['class'])\n",
    "    df['class'] = np.where((df['class'] == '11-nlp') & (df.program_type == 'DS_program'), 'ds-nlp', df['class'])\n",
    "    df['class'] = np.where((df['class'] == 'distributed-ml') & (df.program_type == 'DS_program'), 'ds-distributed-ml', df['class'])\n",
    "    df['class'] = np.where((df['class'] == '12-distributed-ml') & (df.program_type == 'DS_program'), 'ds-distributed-ml', df['class'])\n",
    "    df['class'] = np.where((df['class'] == 'advanced-topics') & (df.program_type == 'DS_program'), 'ds-advanced-topics', df['class'])\n",
    "    df['class'] = np.where((df['class'] == '13-advanced-topics') & (df.program_type == 'DS_program'), 'ds-advanced-topics', df['class'])\n",
    "    df['class'] = np.where((df['class'] == 'appendix') & (df.program_type == 'DS_program'), 'ds-appendix', df['class'])\n",
    "    \n",
    "    # the rest class will belong to Full-Stack program\n",
    "    df['class'] = np.where((df['class'] == '1-fundamentals'), 'fundamentals', df['class'])\n",
    "    df['class'] = np.where((df['class'] == '10-anomaly-detection'), 'anomaly-detection', df['class'])\n",
    "    df['class'] = np.where((df['class'] == '6-regression'), 'regression', df['class'])\n",
    "    df['class'] = np.where((df['class'] == '3-sql'), 'sql', df['class'])\n",
    "    df['class'] = np.where((df['class'] == '4-python'), 'python', df['class'])\n",
    "    df['class'] = np.where((df['class'] == '5-stats'), 'stats', df['class'])\n",
    "    df['class'] = np.where((df['class'] == '7-classification'), 'classification', df['class'])\n",
    "    df['class'] = np.where((df['class'] == '2-storytelling'), 'storytelling', df['class'])\n",
    "    df['class'] = np.where((df['class'] == '9-timeseries'), 'timeseries', df['class'])\n",
    "    df['class'] = np.where((df['class'] == '8-clustering'), 'clustering', df['class'])\n",
    "    df['class'] = np.where((df['class'] == '11-nlp'), 'nlp', df['class'])\n",
    "    df['class'] = np.where((df['class'] == '12-distributed-ml'), 'distributed-ml', df['class'])\n",
    "    df['class'] = np.where((df['class'] == '1._Fundamentals'), 'fundamentals', df['class'])\n",
    "    df['class'] = np.where((df['class'] == '5-regression'), 'regression', df['class'])\n",
    "    df['class'] = np.where((df['class'] == '6-classification'), 'classification', df['class'])\n",
    "    df['class'] = np.where((df['class'] == '9-anomaly-detection'), 'anomaly-detection', df['class'])\n",
    "    df['class'] = np.where((df['class'] == '3.0-mysql-overview'), 'mysql', df['class'])\n",
    "    df['class'] = np.where((df['class'] == '13-advanced-topics'), 'advanced-topics', df['class'])\n",
    "    df['class'] = np.where((df['class'] == '2-stats'), 'stats', df['class'])\n",
    "    \n",
    "    return df"
   ]
  }
 ],
 "metadata": {
  "kernelspec": {
   "display_name": "Python 3 (ipykernel)",
   "language": "python",
   "name": "python3"
  },
  "language_info": {
   "codemirror_mode": {
    "name": "ipython",
    "version": 3
   },
   "file_extension": ".py",
   "mimetype": "text/x-python",
   "name": "python",
   "nbconvert_exporter": "python",
   "pygments_lexer": "ipython3",
   "version": "3.9.12"
  }
 },
 "nbformat": 4,
 "nbformat_minor": 5
}
