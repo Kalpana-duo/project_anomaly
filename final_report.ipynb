{
 "cells": [
  {
   "cell_type": "markdown",
   "metadata": {},
   "source": [
    "### Anomoly Detection: Codeup Curriculum Logs\n",
    "\n",
    "    Created By: Chen Chen Feng & Mijail Mariano\n",
    "\n",
    "    Data Science, Kalpana Cohort\n",
    "\n",
    "    25AUGUST2022\n",
    "\n",
    "----"
   ]
  },
  {
   "cell_type": "code",
   "execution_count": null,
   "metadata": {},
   "outputs": [],
   "source": [
    "%matplotlib inline\n",
    "import matplotlib as mlp\n",
    "mlp.rcParams['figure.dpi'] = 300\n",
    "\n",
    "# diasbling warning messages\n",
    "import warnings\n",
    "warnings.filterwarnings(\"ignore\")\n",
    "\n",
    "import pandas as pd\n",
    "import numpy as np\n",
    "\n",
    "# visualization libraries/modules\n",
    "import matplotlib.pyplot as plt\n",
    "import seaborn as sns\n",
    "sns.set()\n",
    "\n",
    "# prepare module for data cleaning/manipulation\n",
    "import prepare_final\n",
    "\n",
    "# acquire module for acquiring the Codeup curriculum logs dataset\n",
    "import acquire_final\n",
    "from acquire_final import\n",
    "\n",
    "# skimpy module to clean column names\n",
    "from skimpy import clean_columns\n",
    "\n",
    "# regular expression module\n",
    "import re\n",
    "\n",
    "import env_mm\n",
    "from env_mm import user, password, host, get_connection"
   ]
  }
 ],
 "metadata": {
  "kernelspec": {
   "display_name": "Python 3.9.12 ('base')",
   "language": "python",
   "name": "python3"
  },
  "language_info": {
   "name": "python",
   "version": "3.9.12"
  },
  "orig_nbformat": 4,
  "vscode": {
   "interpreter": {
    "hash": "40d3a090f54c6569ab1632332b64b2c03c39dcf918b08424e98f38b5ae0af88f"
   }
  }
 },
 "nbformat": 4,
 "nbformat_minor": 2
}
