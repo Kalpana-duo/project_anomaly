{
 "cells": [
  {
   "cell_type": "markdown",
   "metadata": {},
   "source": [
    "### Anomoly Detection: Group Project\n",
    "\n",
    "    Created By: Mijail Mariano & Chen Chen Feng\n",
    "\n",
    "    23AUGUST2022"
   ]
  },
  {
   "cell_type": "code",
   "execution_count": 2,
   "metadata": {},
   "outputs": [],
   "source": [
    "# notebook dependencies\n",
    "%matplotlib inline\n",
    "import matplotlib as mlp\n",
    "mlp.rcParams['figure.dpi'] = 300\n",
    "\n",
    "import pandas as pd\n",
    "import numpy as np\n",
    "import os\n",
    "\n",
    "# visualization libraries/modules\n",
    "import matplotlib.pyplot as plt\n",
    "import seaborn as sns\n",
    "\n",
    "# pycaret import\n",
    "from pycaret.anomaly import *\n",
    "\n",
    "# plotly import\n",
    "# import plotly.express as px\n",
    "# import plotly.io as pio\n",
    "# pio.renderers.default = \"notebook_connected\"\n",
    "\n",
    "# created module\n",
    "import mm_prepare\n",
    "from mm_prepare import get_logs_dataset\n",
    "\n",
    "from skimpy import clean_columns\n",
    "\n",
    "import env_mm\n",
    "from env_mm import user, password, host, get_connection"
   ]
  },
  {
   "cell_type": "code",
   "execution_count": null,
   "metadata": {},
   "outputs": [],
   "source": []
  }
 ],
 "metadata": {
  "kernelspec": {
   "display_name": "Python 3.9.12 ('base')",
   "language": "python",
   "name": "python3"
  },
  "language_info": {
   "codemirror_mode": {
    "name": "ipython",
    "version": 3
   },
   "file_extension": ".py",
   "mimetype": "text/x-python",
   "name": "python",
   "nbconvert_exporter": "python",
   "pygments_lexer": "ipython3",
   "version": "3.9.12"
  },
  "orig_nbformat": 4,
  "vscode": {
   "interpreter": {
    "hash": "40d3a090f54c6569ab1632332b64b2c03c39dcf918b08424e98f38b5ae0af88f"
   }
  }
 },
 "nbformat": 4,
 "nbformat_minor": 2
}
